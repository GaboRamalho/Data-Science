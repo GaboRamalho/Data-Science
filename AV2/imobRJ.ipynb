{
 "cells": [
  {
   "cell_type": "markdown",
   "metadata": {},
   "source": [
    "Analise exploratória inicial dos dados imobiliários do Rio de Janeiro"
   ]
  },
  {
   "cell_type": "code",
   "execution_count": 1,
   "metadata": {},
   "outputs": [],
   "source": [
    "#import das bibliotecas necessárias\n",
    "import pandas as pd"
   ]
  },
  {
   "cell_type": "code",
   "execution_count": 7,
   "metadata": {},
   "outputs": [
    {
     "data": {
      "text/html": [
       "<div>\n",
       "<style scoped>\n",
       "    .dataframe tbody tr th:only-of-type {\n",
       "        vertical-align: middle;\n",
       "    }\n",
       "\n",
       "    .dataframe tbody tr th {\n",
       "        vertical-align: top;\n",
       "    }\n",
       "\n",
       "    .dataframe thead th {\n",
       "        text-align: right;\n",
       "    }\n",
       "</style>\n",
       "<table border=\"1\" class=\"dataframe\">\n",
       "  <thead>\n",
       "    <tr style=\"text-align: right;\">\n",
       "      <th></th>\n",
       "      <th>condominio</th>\n",
       "      <th>quartos</th>\n",
       "      <th>suites</th>\n",
       "      <th>vagas</th>\n",
       "      <th>area</th>\n",
       "      <th>bairro</th>\n",
       "      <th>preco</th>\n",
       "      <th>pm2</th>\n",
       "    </tr>\n",
       "  </thead>\n",
       "  <tbody>\n",
       "    <tr>\n",
       "      <th>142</th>\n",
       "      <td>500</td>\n",
       "      <td>2</td>\n",
       "      <td>2.0</td>\n",
       "      <td>1.0</td>\n",
       "      <td>75</td>\n",
       "      <td>Copacabana</td>\n",
       "      <td>1680000</td>\n",
       "      <td>22400.00</td>\n",
       "    </tr>\n",
       "    <tr>\n",
       "      <th>1193</th>\n",
       "      <td>1400</td>\n",
       "      <td>3</td>\n",
       "      <td>2.0</td>\n",
       "      <td>1.0</td>\n",
       "      <td>110</td>\n",
       "      <td>Leblon</td>\n",
       "      <td>2100000</td>\n",
       "      <td>19090.91</td>\n",
       "    </tr>\n",
       "    <tr>\n",
       "      <th>728</th>\n",
       "      <td>1400</td>\n",
       "      <td>2</td>\n",
       "      <td>1.0</td>\n",
       "      <td>1.0</td>\n",
       "      <td>75</td>\n",
       "      <td>Botafogo</td>\n",
       "      <td>1300000</td>\n",
       "      <td>17333.33</td>\n",
       "    </tr>\n",
       "    <tr>\n",
       "      <th>1620</th>\n",
       "      <td>230</td>\n",
       "      <td>1</td>\n",
       "      <td>0.0</td>\n",
       "      <td>0.0</td>\n",
       "      <td>35</td>\n",
       "      <td>Grajaú</td>\n",
       "      <td>285000</td>\n",
       "      <td>8142.86</td>\n",
       "    </tr>\n",
       "    <tr>\n",
       "      <th>67</th>\n",
       "      <td>1580</td>\n",
       "      <td>3</td>\n",
       "      <td>1.0</td>\n",
       "      <td>1.0</td>\n",
       "      <td>215</td>\n",
       "      <td>Botafogo</td>\n",
       "      <td>1890000</td>\n",
       "      <td>8790.70</td>\n",
       "    </tr>\n",
       "  </tbody>\n",
       "</table>\n",
       "</div>"
      ],
      "text/plain": [
       "      condominio  quartos  suites  vagas  area      bairro    preco       pm2\n",
       "142          500        2     2.0    1.0    75  Copacabana  1680000  22400.00\n",
       "1193        1400        3     2.0    1.0   110      Leblon  2100000  19090.91\n",
       "728         1400        2     1.0    1.0    75    Botafogo  1300000  17333.33\n",
       "1620         230        1     0.0    0.0    35      Grajaú   285000   8142.86\n",
       "67          1580        3     1.0    1.0   215    Botafogo  1890000   8790.70"
      ]
     },
     "execution_count": 7,
     "metadata": {},
     "output_type": "execute_result"
    }
   ],
   "source": [
    "dados_imob = pd.read_csv('C:\\\\Users\\\\EDS\\\\OneDrive - Extreme Digital Solutions\\\\Documentos\\\\TADS020\\\\Data Science\\\\AV2\\\\imob_RJ.csv', sep = ',')\n",
    "dados_imob.sample(5)"
   ]
  },
  {
   "cell_type": "code",
   "execution_count": 8,
   "metadata": {},
   "outputs": [
    {
     "data": {
      "text/html": [
       "<div>\n",
       "<style scoped>\n",
       "    .dataframe tbody tr th:only-of-type {\n",
       "        vertical-align: middle;\n",
       "    }\n",
       "\n",
       "    .dataframe tbody tr th {\n",
       "        vertical-align: top;\n",
       "    }\n",
       "\n",
       "    .dataframe thead th {\n",
       "        text-align: right;\n",
       "    }\n",
       "</style>\n",
       "<table border=\"1\" class=\"dataframe\">\n",
       "  <thead>\n",
       "    <tr style=\"text-align: right;\">\n",
       "      <th></th>\n",
       "      <th>condominio</th>\n",
       "      <th>quartos</th>\n",
       "      <th>suites</th>\n",
       "      <th>vagas</th>\n",
       "      <th>area</th>\n",
       "      <th>bairro</th>\n",
       "      <th>preco</th>\n",
       "      <th>pm2</th>\n",
       "    </tr>\n",
       "  </thead>\n",
       "  <tbody>\n",
       "    <tr>\n",
       "      <th>0</th>\n",
       "      <td>350</td>\n",
       "      <td>1</td>\n",
       "      <td>0.0</td>\n",
       "      <td>1.0</td>\n",
       "      <td>21</td>\n",
       "      <td>Botafogo</td>\n",
       "      <td>340000</td>\n",
       "      <td>16190.48</td>\n",
       "    </tr>\n",
       "    <tr>\n",
       "      <th>1</th>\n",
       "      <td>800</td>\n",
       "      <td>1</td>\n",
       "      <td>0.0</td>\n",
       "      <td>1.0</td>\n",
       "      <td>64</td>\n",
       "      <td>Botafogo</td>\n",
       "      <td>770000</td>\n",
       "      <td>12031.25</td>\n",
       "    </tr>\n",
       "    <tr>\n",
       "      <th>2</th>\n",
       "      <td>674</td>\n",
       "      <td>1</td>\n",
       "      <td>0.0</td>\n",
       "      <td>1.0</td>\n",
       "      <td>61</td>\n",
       "      <td>Botafogo</td>\n",
       "      <td>600000</td>\n",
       "      <td>9836.07</td>\n",
       "    </tr>\n",
       "    <tr>\n",
       "      <th>3</th>\n",
       "      <td>700</td>\n",
       "      <td>1</td>\n",
       "      <td>1.0</td>\n",
       "      <td>1.0</td>\n",
       "      <td>70</td>\n",
       "      <td>Botafogo</td>\n",
       "      <td>700000</td>\n",
       "      <td>10000.00</td>\n",
       "    </tr>\n",
       "    <tr>\n",
       "      <th>4</th>\n",
       "      <td>440</td>\n",
       "      <td>1</td>\n",
       "      <td>0.0</td>\n",
       "      <td>1.0</td>\n",
       "      <td>44</td>\n",
       "      <td>Botafogo</td>\n",
       "      <td>515000</td>\n",
       "      <td>11704.55</td>\n",
       "    </tr>\n",
       "  </tbody>\n",
       "</table>\n",
       "</div>"
      ],
      "text/plain": [
       "   condominio  quartos  suites  vagas  area    bairro   preco       pm2\n",
       "0         350        1     0.0    1.0    21  Botafogo  340000  16190.48\n",
       "1         800        1     0.0    1.0    64  Botafogo  770000  12031.25\n",
       "2         674        1     0.0    1.0    61  Botafogo  600000   9836.07\n",
       "3         700        1     1.0    1.0    70  Botafogo  700000  10000.00\n",
       "4         440        1     0.0    1.0    44  Botafogo  515000  11704.55"
      ]
     },
     "execution_count": 8,
     "metadata": {},
     "output_type": "execute_result"
    }
   ],
   "source": [
    "dados_imob.head()"
   ]
  },
  {
   "cell_type": "code",
   "execution_count": 9,
   "metadata": {},
   "outputs": [
    {
     "data": {
      "text/plain": [
       "(1997, 8)"
      ]
     },
     "execution_count": 9,
     "metadata": {},
     "output_type": "execute_result"
    }
   ],
   "source": [
    "dados_imob.shape"
   ]
  },
  {
   "cell_type": "code",
   "execution_count": 11,
   "metadata": {},
   "outputs": [
    {
     "data": {
      "text/plain": [
       "Index(['condominio', 'quartos', 'suites', 'vagas', 'area', 'bairro', 'preco',\n",
       "       'pm2'],\n",
       "      dtype='object')"
      ]
     },
     "execution_count": 11,
     "metadata": {},
     "output_type": "execute_result"
    }
   ],
   "source": [
    "dados_imob.columns"
   ]
  },
  {
   "cell_type": "code",
   "execution_count": 13,
   "metadata": {},
   "outputs": [
    {
     "name": "stdout",
     "output_type": "stream",
     "text": [
      "<class 'pandas.core.frame.DataFrame'>\n",
      "RangeIndex: 1997 entries, 0 to 1996\n",
      "Data columns (total 8 columns):\n",
      " #   Column      Non-Null Count  Dtype  \n",
      "---  ------      --------------  -----  \n",
      " 0   condominio  1997 non-null   int64  \n",
      " 1   quartos     1997 non-null   int64  \n",
      " 2   suites      1997 non-null   float64\n",
      " 3   vagas       1997 non-null   float64\n",
      " 4   area        1997 non-null   int64  \n",
      " 5   bairro      1997 non-null   object \n",
      " 6   preco       1997 non-null   int64  \n",
      " 7   pm2         1997 non-null   float64\n",
      "dtypes: float64(3), int64(4), object(1)\n",
      "memory usage: 124.9+ KB\n"
     ]
    }
   ],
   "source": [
    "dados_imob.info()"
   ]
  },
  {
   "cell_type": "code",
   "execution_count": 14,
   "metadata": {},
   "outputs": [
    {
     "data": {
      "text/html": [
       "<div>\n",
       "<style scoped>\n",
       "    .dataframe tbody tr th:only-of-type {\n",
       "        vertical-align: middle;\n",
       "    }\n",
       "\n",
       "    .dataframe tbody tr th {\n",
       "        vertical-align: top;\n",
       "    }\n",
       "\n",
       "    .dataframe thead th {\n",
       "        text-align: right;\n",
       "    }\n",
       "</style>\n",
       "<table border=\"1\" class=\"dataframe\">\n",
       "  <thead>\n",
       "    <tr style=\"text-align: right;\">\n",
       "      <th></th>\n",
       "      <th>condominio</th>\n",
       "      <th>quartos</th>\n",
       "      <th>suites</th>\n",
       "      <th>vagas</th>\n",
       "      <th>area</th>\n",
       "      <th>preco</th>\n",
       "      <th>pm2</th>\n",
       "    </tr>\n",
       "  </thead>\n",
       "  <tbody>\n",
       "    <tr>\n",
       "      <th>count</th>\n",
       "      <td>1997.000000</td>\n",
       "      <td>1997.000000</td>\n",
       "      <td>1997.000000</td>\n",
       "      <td>1997.000000</td>\n",
       "      <td>1997.000000</td>\n",
       "      <td>1.997000e+03</td>\n",
       "      <td>1997.00000</td>\n",
       "    </tr>\n",
       "    <tr>\n",
       "      <th>mean</th>\n",
       "      <td>971.087631</td>\n",
       "      <td>2.128693</td>\n",
       "      <td>1.039559</td>\n",
       "      <td>1.153230</td>\n",
       "      <td>90.051577</td>\n",
       "      <td>1.229410e+06</td>\n",
       "      <td>13256.74635</td>\n",
       "    </tr>\n",
       "    <tr>\n",
       "      <th>std</th>\n",
       "      <td>653.893691</td>\n",
       "      <td>0.793866</td>\n",
       "      <td>0.443091</td>\n",
       "      <td>0.453837</td>\n",
       "      <td>46.417486</td>\n",
       "      <td>1.155809e+06</td>\n",
       "      <td>6977.37614</td>\n",
       "    </tr>\n",
       "    <tr>\n",
       "      <th>min</th>\n",
       "      <td>1.000000</td>\n",
       "      <td>1.000000</td>\n",
       "      <td>0.000000</td>\n",
       "      <td>0.000000</td>\n",
       "      <td>19.000000</td>\n",
       "      <td>1.300000e+05</td>\n",
       "      <td>2600.00000</td>\n",
       "    </tr>\n",
       "    <tr>\n",
       "      <th>25%</th>\n",
       "      <td>550.000000</td>\n",
       "      <td>1.000000</td>\n",
       "      <td>1.000000</td>\n",
       "      <td>1.000000</td>\n",
       "      <td>60.000000</td>\n",
       "      <td>5.600000e+05</td>\n",
       "      <td>7894.74000</td>\n",
       "    </tr>\n",
       "    <tr>\n",
       "      <th>50%</th>\n",
       "      <td>800.000000</td>\n",
       "      <td>2.000000</td>\n",
       "      <td>1.000000</td>\n",
       "      <td>1.000000</td>\n",
       "      <td>80.000000</td>\n",
       "      <td>9.000000e+05</td>\n",
       "      <td>11904.76000</td>\n",
       "    </tr>\n",
       "    <tr>\n",
       "      <th>75%</th>\n",
       "      <td>1200.000000</td>\n",
       "      <td>3.000000</td>\n",
       "      <td>1.000000</td>\n",
       "      <td>1.000000</td>\n",
       "      <td>110.000000</td>\n",
       "      <td>1.550000e+06</td>\n",
       "      <td>17156.86000</td>\n",
       "    </tr>\n",
       "    <tr>\n",
       "      <th>max</th>\n",
       "      <td>7071.000000</td>\n",
       "      <td>3.000000</td>\n",
       "      <td>3.000000</td>\n",
       "      <td>4.000000</td>\n",
       "      <td>475.000000</td>\n",
       "      <td>1.360000e+07</td>\n",
       "      <td>76666.67000</td>\n",
       "    </tr>\n",
       "  </tbody>\n",
       "</table>\n",
       "</div>"
      ],
      "text/plain": [
       "        condominio      quartos       suites        vagas         area  \\\n",
       "count  1997.000000  1997.000000  1997.000000  1997.000000  1997.000000   \n",
       "mean    971.087631     2.128693     1.039559     1.153230    90.051577   \n",
       "std     653.893691     0.793866     0.443091     0.453837    46.417486   \n",
       "min       1.000000     1.000000     0.000000     0.000000    19.000000   \n",
       "25%     550.000000     1.000000     1.000000     1.000000    60.000000   \n",
       "50%     800.000000     2.000000     1.000000     1.000000    80.000000   \n",
       "75%    1200.000000     3.000000     1.000000     1.000000   110.000000   \n",
       "max    7071.000000     3.000000     3.000000     4.000000   475.000000   \n",
       "\n",
       "              preco          pm2  \n",
       "count  1.997000e+03   1997.00000  \n",
       "mean   1.229410e+06  13256.74635  \n",
       "std    1.155809e+06   6977.37614  \n",
       "min    1.300000e+05   2600.00000  \n",
       "25%    5.600000e+05   7894.74000  \n",
       "50%    9.000000e+05  11904.76000  \n",
       "75%    1.550000e+06  17156.86000  \n",
       "max    1.360000e+07  76666.67000  "
      ]
     },
     "execution_count": 14,
     "metadata": {},
     "output_type": "execute_result"
    }
   ],
   "source": [
    "dados_imob.describe()"
   ]
  },
  {
   "cell_type": "markdown",
   "metadata": {},
   "source": [
    "Identificação de quais bairros estão sendo citados e quantas vezes eles aparecem."
   ]
  },
  {
   "cell_type": "code",
   "execution_count": 18,
   "metadata": {},
   "outputs": [
    {
     "data": {
      "text/plain": [
       "Copacabana    346\n",
       "Tijuca        341\n",
       "Botafogo      307\n",
       "Ipanema       281\n",
       "Leblon        280\n",
       "Grajaú        237\n",
       "Gávea         205\n",
       "Name: bairro, dtype: int64"
      ]
     },
     "execution_count": 18,
     "metadata": {},
     "output_type": "execute_result"
    }
   ],
   "source": [
    "locais = dados_imob['bairro'].value_counts()\n",
    "locais"
   ]
  },
  {
   "cell_type": "markdown",
   "metadata": {},
   "source": [
    "A partir dessa identificação é possível perceber que os bairros contido na tabela estão majoritariamente localizados na zona sul do Rio de Janeiro\n",
    "\n",
    "Copacabana - Zona Sul\n",
    "Tijuca - Zona Norte\n",
    "Botafogo - Zona Sul\n",
    "Ipanema - Zona Sul\n",
    "Leblon - Zona Sul\n",
    "Grajaú - Zona Norte\n",
    "Gávea - Zona Sul"
   ]
  },
  {
   "cell_type": "markdown",
   "metadata": {},
   "source": [
    "Vamos analisar alguns pontos com base nos dados fornecidos para construir um pensamento socioeconômico que respalde a ideia de que a Zona Sul do Rio de Janeiro é historicamente mais rica:\n",
    "\n",
    "\n",
    "PIB per Capita:\n",
    "O PIB per capita da cidade do Rio de Janeiro em 2020, classificando-a como a 21ª cidade mais rica entre as 92 do estado, destaca a concentração de riqueza na região. Esse indicador, ao refletir a média de recebimento por pessoa, sugere uma presença significativa de setores econômicos mais prósperos, indicando um ambiente propício para a geração de renda e desenvolvimento econômico.\n",
    "\n",
    "Faixas Etárias e População Ocupada:\n",
    "Ao considerar as faixas etárias entre 30 e 50 anos, que frequentemente representam estágios avançados de carreiras profissionais, a considerável quantidade de pessoas nesses grupos demográficos (1.866.000) sugere não apenas uma população numericamente expressiva, mas também uma força de trabalho madura e experiente, contribuindo para a vitalidade econômica da cidade.\n",
    "\n",
    "Percentual de Pessoas Ocupadas:\n",
    "O fato de 34.7% da população estar ocupada destaca a participação ativa da comunidade no mercado de trabalho. Esse número considerável indica não apenas uma oferta robusta de empregos, mas também a capacidade da população em contribuir para o crescimento econômico da cidade.\n",
    "\n",
    "Ao analisar esses indicadores de maneira mais abrangente, podemos inferir que a Zona Sul do Rio de Janeiro, como parte integrante da cidade, desempenha um papel crucial na manutenção e ampliação desses padrões socioeconômicos. A presença de figuras proeminentes, como políticos, artistas, empresários e doutores, na Zona Sul, pode ser interpretada como uma resposta à atratividade econômica e qualidade de vida que a região oferece, consolidando-a como um epicentro histórico de prosperidade na cidade.\n"
   ]
  },
  {
   "cell_type": "markdown",
   "metadata": {},
   "source": [
    "Gráfico dos locais que mais são citados na tabela"
   ]
  },
  {
   "cell_type": "code",
   "execution_count": 19,
   "metadata": {},
   "outputs": [],
   "source": [
    "#import da biblioteca para plotar os gráficos\n",
    "\n",
    "import seaborn as sns\n",
    "import matplotlib.pyplot as plt"
   ]
  },
  {
   "cell_type": "code",
   "execution_count": 20,
   "metadata": {},
   "outputs": [
    {
     "data": {
      "image/png": "[encoded data removed]",
      "text/plain": [
       "<Figure size 1000x800 with 1 Axes>"
      ]
     },
     "metadata": {},
     "output_type": "display_data"
    }
   ],
   "source": [
    "# 'dados_imob' é o DataFrame e 'bairro' é a coluna dos bairros\n",
    "locais = dados_imob['bairro'].value_counts()\n",
    "\n",
    "# Configurações de estilo do seaborn\n",
    "sns.set(style=\"whitegrid\")\n",
    "\n",
    "# Criar um gráfico de barras horizontal usando seaborn\n",
    "plt.figure(figsize=(10, 8))\n",
    "sns.barplot(x=locais.values, y=locais.index, palette=\"viridis\")\n",
    "\n",
    "# Ajuste os rótulos do título e dos eixos\n",
    "plt.title('Quantidade de Imóveis por Bairro no Rio de Janeiro', fontsize=16)\n",
    "plt.xlabel('Quantidade de Imóveis', fontsize=14)\n",
    "plt.ylabel('Bairros', fontsize=14)\n",
    "\n",
    "# Exiba o gráfico\n",
    "plt.show()"
   ]
  },
  {
   "cell_type": "markdown",
   "metadata": {},
   "source": [
    "Total de preço do m^2 acumulado no bairro."
   ]
  },
  {
   "cell_type": "code",
   "execution_count": 24,
   "metadata": {},
   "outputs": [
    {
     "data": {
      "text/html": [
       "<div>\n",
       "<style scoped>\n",
       "    .dataframe tbody tr th:only-of-type {\n",
       "        vertical-align: middle;\n",
       "    }\n",
       "\n",
       "    .dataframe tbody tr th {\n",
       "        vertical-align: top;\n",
       "    }\n",
       "\n",
       "    .dataframe thead th {\n",
       "        text-align: right;\n",
       "    }\n",
       "</style>\n",
       "<table border=\"1\" class=\"dataframe\">\n",
       "  <thead>\n",
       "    <tr style=\"text-align: right;\">\n",
       "      <th></th>\n",
       "      <th>bairro</th>\n",
       "      <th>pm2</th>\n",
       "    </tr>\n",
       "  </thead>\n",
       "  <tbody>\n",
       "    <tr>\n",
       "      <th>5</th>\n",
       "      <td>Leblon</td>\n",
       "      <td>$5,813,178.29</td>\n",
       "    </tr>\n",
       "    <tr>\n",
       "      <th>4</th>\n",
       "      <td>Ipanema</td>\n",
       "      <td>$5,546,492.59</td>\n",
       "    </tr>\n",
       "    <tr>\n",
       "      <th>1</th>\n",
       "      <td>Copacabana</td>\n",
       "      <td>$4,139,993.35</td>\n",
       "    </tr>\n",
       "    <tr>\n",
       "      <th>0</th>\n",
       "      <td>Botafogo</td>\n",
       "      <td>$3,694,587.26</td>\n",
       "    </tr>\n",
       "    <tr>\n",
       "      <th>3</th>\n",
       "      <td>Gávea</td>\n",
       "      <td>$3,384,874.47</td>\n",
       "    </tr>\n",
       "    <tr>\n",
       "      <th>6</th>\n",
       "      <td>Tijuca</td>\n",
       "      <td>$2,438,083.50</td>\n",
       "    </tr>\n",
       "    <tr>\n",
       "      <th>2</th>\n",
       "      <td>Grajaú</td>\n",
       "      <td>$1,456,513.00</td>\n",
       "    </tr>\n",
       "  </tbody>\n",
       "</table>\n",
       "</div>"
      ],
      "text/plain": [
       "       bairro            pm2\n",
       "5      Leblon  $5,813,178.29\n",
       "4     Ipanema  $5,546,492.59\n",
       "1  Copacabana  $4,139,993.35\n",
       "0    Botafogo  $3,694,587.26\n",
       "3       Gávea  $3,384,874.47\n",
       "6      Tijuca  $2,438,083.50\n",
       "2      Grajaú  $1,456,513.00"
      ]
     },
     "execution_count": 24,
     "metadata": {},
     "output_type": "execute_result"
    }
   ],
   "source": [
    "# Agrupar por bairro e calcular a soma da coluna 'pm2' para cada bairro\n",
    "soma_pm2_por_bairro = dados_imob.groupby('bairro')['pm2'].sum().reset_index()\n",
    "\n",
    "# Ordenar em ordem decrescente pela coluna 'pm2'\n",
    "soma_pm2_por_bairro = soma_pm2_por_bairro.sort_values(by='pm2', ascending=False)\n",
    "\n",
    "# Formatar a coluna 'pm2' em formato de moeda real\n",
    "soma_pm2_por_bairro['pm2'] = soma_pm2_por_bairro['pm2'].map('${:,.2f}'.format)\n",
    "\n",
    "#print do resultado\n",
    "soma_pm2_por_bairro"
   ]
  },
  {
   "cell_type": "markdown",
   "metadata": {},
   "source": [
    "Gráfico dos resultados"
   ]
  },
  {
   "cell_type": "code",
   "execution_count": 39,
   "metadata": {},
   "outputs": [
    {
     "data": {
      "image/png": "[encoded data removed]",
      "text/plain": [
       "<Figure size 1000x800 with 1 Axes>"
      ]
     },
     "metadata": {},
     "output_type": "display_data"
    }
   ],
   "source": [
    "# Agrupar por bairro e calcular a soma da coluna 'pm2' para cada bairro\n",
    "soma_pm2_por_bairro = dados_imob.groupby('bairro')['pm2'].sum().reset_index()\n",
    "\n",
    "# Ordenar em ordem decrescente pela coluna 'pm2'\n",
    "soma_pm2_por_bairro = soma_pm2_por_bairro.sort_values(by='pm2', ascending=False)\n",
    "\n",
    "# Converter a coluna 'pm2' para numérica (removendo o formato de moeda)\n",
    "soma_pm2_por_bairro['pm2'] = soma_pm2_por_bairro['pm2'].replace('[\\$,]', '', regex=True).astype(float)\n",
    "\n",
    "# Configurações de estilo do seaborn\n",
    "sns.set(style=\"whitegrid\")\n",
    "\n",
    "# Criar um gráfico de barras horizontais\n",
    "plt.figure(figsize=(10, 8))\n",
    "sns.barplot(x='pm2', y='bairro', data=soma_pm2_por_bairro, palette=\"viridis\")\n",
    "\n",
    "# Ajuste dos rótulos do título e dos eixos\n",
    "plt.title('Total acumulado em m² por bairro', fontsize=16)\n",
    "plt.xlabel('Soma de pm2 (em milhões)', fontsize=14)\n",
    "plt.ylabel('Bairros', fontsize=14)\n",
    "\n",
    "# Exibir o gráfico\n",
    "plt.show()"
   ]
  },
  {
   "cell_type": "markdown",
   "metadata": {},
   "source": [
    "Soma geral do preço dos imóveis por bairro. "
   ]
  },
  {
   "cell_type": "code",
   "execution_count": 37,
   "metadata": {},
   "outputs": [
    {
     "data": {
      "text/html": [
       "<div>\n",
       "<style scoped>\n",
       "    .dataframe tbody tr th:only-of-type {\n",
       "        vertical-align: middle;\n",
       "    }\n",
       "\n",
       "    .dataframe tbody tr th {\n",
       "        vertical-align: top;\n",
       "    }\n",
       "\n",
       "    .dataframe thead th {\n",
       "        text-align: right;\n",
       "    }\n",
       "</style>\n",
       "<table border=\"1\" class=\"dataframe\">\n",
       "  <thead>\n",
       "    <tr style=\"text-align: right;\">\n",
       "      <th></th>\n",
       "      <th>bairro</th>\n",
       "      <th>preco</th>\n",
       "    </tr>\n",
       "  </thead>\n",
       "  <tbody>\n",
       "    <tr>\n",
       "      <th>4</th>\n",
       "      <td>Ipanema</td>\n",
       "      <td>$571,299,991.00</td>\n",
       "    </tr>\n",
       "    <tr>\n",
       "      <th>5</th>\n",
       "      <td>Leblon</td>\n",
       "      <td>$544,934,000.00</td>\n",
       "    </tr>\n",
       "    <tr>\n",
       "      <th>1</th>\n",
       "      <td>Copacabana</td>\n",
       "      <td>$420,854,898.00</td>\n",
       "    </tr>\n",
       "    <tr>\n",
       "      <th>0</th>\n",
       "      <td>Botafogo</td>\n",
       "      <td>$310,258,387.00</td>\n",
       "    </tr>\n",
       "    <tr>\n",
       "      <th>3</th>\n",
       "      <td>Gávea</td>\n",
       "      <td>$298,187,000.00</td>\n",
       "    </tr>\n",
       "    <tr>\n",
       "      <th>6</th>\n",
       "      <td>Tijuca</td>\n",
       "      <td>$196,101,592.00</td>\n",
       "    </tr>\n",
       "    <tr>\n",
       "      <th>2</th>\n",
       "      <td>Grajaú</td>\n",
       "      <td>$113,496,195.00</td>\n",
       "    </tr>\n",
       "  </tbody>\n",
       "</table>\n",
       "</div>"
      ],
      "text/plain": [
       "       bairro            preco\n",
       "4     Ipanema  $571,299,991.00\n",
       "5      Leblon  $544,934,000.00\n",
       "1  Copacabana  $420,854,898.00\n",
       "0    Botafogo  $310,258,387.00\n",
       "3       Gávea  $298,187,000.00\n",
       "6      Tijuca  $196,101,592.00\n",
       "2      Grajaú  $113,496,195.00"
      ]
     },
     "execution_count": 37,
     "metadata": {},
     "output_type": "execute_result"
    }
   ],
   "source": [
    "# Agrupar por bairro e calcular a soma da coluna 'pm2' para cada bairro\n",
    "soma_preco_por_bairro = dados_imob.groupby('bairro')['preco'].sum().reset_index()\n",
    "\n",
    "# Ordenar em ordem decrescente pela coluna 'pm2'\n",
    "soma_preco_por_bairro = soma_preco_por_bairro.sort_values(by='preco', ascending=False)\n",
    "\n",
    "# Formatar a coluna 'pm2' em formato de moeda real\n",
    "soma_preco_por_bairro['preco'] = soma_preco_por_bairro['preco'].map('${:,.2f}'.format)\n",
    "\n",
    "#print do resultado\n",
    "soma_preco_por_bairro"
   ]
  },
  {
   "cell_type": "markdown",
   "metadata": {},
   "source": [
    "Gráfico dos resultados da soma por preço"
   ]
  },
  {
   "cell_type": "code",
   "execution_count": 38,
   "metadata": {},
   "outputs": [
    {
     "data": {
      "image/png": "[encoded data removed]",
      "text/plain": [
       "<Figure size 1000x800 with 1 Axes>"
      ]
     },
     "metadata": {},
     "output_type": "display_data"
    }
   ],
   "source": [
    "# Agrupar por bairro e calcular a soma da coluna 'pm2' para cada bairro\n",
    "soma_preco_por_bairro = dados_imob.groupby('bairro')['preco'].sum().reset_index()\n",
    "\n",
    "# Ordenar em ordem decrescente pela coluna 'pm2'\n",
    "soma_preco_por_bairro = soma_preco_por_bairro.sort_values(by='preco', ascending=False)\n",
    "\n",
    "# Converter a coluna 'pm2' para numérica (removendo o formato de moeda)\n",
    "soma_preco_por_bairro['preco'] = soma_preco_por_bairro['preco'].replace('[\\$,]', '', regex=True).astype(float)\n",
    "\n",
    "# Configurações de estilo do seaborn\n",
    "sns.set(style=\"whitegrid\")\n",
    "\n",
    "# Criar um gráfico de barras horizontais\n",
    "plt.figure(figsize=(10, 8))\n",
    "sns.barplot(x='preco', y='bairro', data=soma_preco_por_bairro, palette=\"viridis\")\n",
    "\n",
    "# Ajuste dos rótulos do título e dos eixos\n",
    "plt.title('Total preço do imóvel por bairro', fontsize=16)\n",
    "plt.xlabel('Soma do preço (em milhões)', fontsize=14)\n",
    "plt.ylabel('Bairros', fontsize=14)\n",
    "\n",
    "# Exibir o gráfico\n",
    "plt.show()"
   ]
  },
  {
   "cell_type": "markdown",
   "metadata": {},
   "source": [
    "Soma das áreas por bairro"
   ]
  },
  {
   "cell_type": "code",
   "execution_count": 40,
   "metadata": {},
   "outputs": [
    {
     "data": {
      "text/html": [
       "<div>\n",
       "<style scoped>\n",
       "    .dataframe tbody tr th:only-of-type {\n",
       "        vertical-align: middle;\n",
       "    }\n",
       "\n",
       "    .dataframe tbody tr th {\n",
       "        vertical-align: top;\n",
       "    }\n",
       "\n",
       "    .dataframe thead th {\n",
       "        text-align: right;\n",
       "    }\n",
       "</style>\n",
       "<table border=\"1\" class=\"dataframe\">\n",
       "  <thead>\n",
       "    <tr style=\"text-align: right;\">\n",
       "      <th></th>\n",
       "      <th>bairro</th>\n",
       "      <th>area</th>\n",
       "    </tr>\n",
       "  </thead>\n",
       "  <tbody>\n",
       "    <tr>\n",
       "      <th>1</th>\n",
       "      <td>Copacabana</td>\n",
       "      <td>35242</td>\n",
       "    </tr>\n",
       "    <tr>\n",
       "      <th>4</th>\n",
       "      <td>Ipanema</td>\n",
       "      <td>28273</td>\n",
       "    </tr>\n",
       "    <tr>\n",
       "      <th>6</th>\n",
       "      <td>Tijuca</td>\n",
       "      <td>27777</td>\n",
       "    </tr>\n",
       "    <tr>\n",
       "      <th>0</th>\n",
       "      <td>Botafogo</td>\n",
       "      <td>25738</td>\n",
       "    </tr>\n",
       "    <tr>\n",
       "      <th>5</th>\n",
       "      <td>Leblon</td>\n",
       "      <td>25713</td>\n",
       "    </tr>\n",
       "    <tr>\n",
       "      <th>2</th>\n",
       "      <td>Grajaú</td>\n",
       "      <td>18948</td>\n",
       "    </tr>\n",
       "    <tr>\n",
       "      <th>3</th>\n",
       "      <td>Gávea</td>\n",
       "      <td>18142</td>\n",
       "    </tr>\n",
       "  </tbody>\n",
       "</table>\n",
       "</div>"
      ],
      "text/plain": [
       "       bairro   area\n",
       "1  Copacabana  35242\n",
       "4     Ipanema  28273\n",
       "6      Tijuca  27777\n",
       "0    Botafogo  25738\n",
       "5      Leblon  25713\n",
       "2      Grajaú  18948\n",
       "3       Gávea  18142"
      ]
     },
     "execution_count": 40,
     "metadata": {},
     "output_type": "execute_result"
    }
   ],
   "source": [
    "# Agrupar por bairro e calcular a soma da coluna 'area' para cada bairro\n",
    "soma_area_por_bairro = dados_imob.groupby('bairro')['area'].sum().reset_index()\n",
    "\n",
    "# Ordenar em ordem decrescente pela coluna 'pm2'\n",
    "soma_area_por_bairro = soma_area_por_bairro.sort_values(by='area', ascending=False)\n",
    "\n",
    "# Exibir o resultado\n",
    "soma_area_por_bairro"
   ]
  },
  {
   "cell_type": "markdown",
   "metadata": {},
   "source": [
    "Gráfico do resultado da soma"
   ]
  },
  {
   "cell_type": "code",
   "execution_count": 41,
   "metadata": {},
   "outputs": [
    {
     "data": {
      "image/png": "[encoded data removed]",
      "text/plain": [
       "<Figure size 1000x800 with 1 Axes>"
      ]
     },
     "metadata": {},
     "output_type": "display_data"
    }
   ],
   "source": [
    "# Configurações de estilo do seaborn\n",
    "sns.set(style=\"whitegrid\")\n",
    "\n",
    "# Criar um gráfico de barras horizontais\n",
    "plt.figure(figsize=(10, 8))\n",
    "sns.barplot(x='area', y='bairro', data=soma_area_por_bairro, palette=\"viridis\")\n",
    "\n",
    "# Ajuste dos rótulos do título e dos eixos\n",
    "plt.title('Soma da Coluna Area por Bairro', fontsize=16)\n",
    "plt.xlabel('Soma de Área', fontsize=14)\n",
    "plt.ylabel('Bairros', fontsize=14)\n",
    "\n",
    "# Exibir o gráfico\n",
    "plt.show()"
   ]
  },
  {
   "cell_type": "markdown",
   "metadata": {},
   "source": [
    "Estabelecimento da relação entre o total de area habitada pelo total do preço do imóvel"
   ]
  },
  {
   "cell_type": "code",
   "execution_count": 55,
   "metadata": {},
   "outputs": [
    {
     "data": {
      "text/html": [
       "<div>\n",
       "<style scoped>\n",
       "    .dataframe tbody tr th:only-of-type {\n",
       "        vertical-align: middle;\n",
       "    }\n",
       "\n",
       "    .dataframe tbody tr th {\n",
       "        vertical-align: top;\n",
       "    }\n",
       "\n",
       "    .dataframe thead th {\n",
       "        text-align: right;\n",
       "    }\n",
       "</style>\n",
       "<table border=\"1\" class=\"dataframe\">\n",
       "  <thead>\n",
       "    <tr style=\"text-align: right;\">\n",
       "      <th></th>\n",
       "      <th>bairro</th>\n",
       "      <th>area</th>\n",
       "      <th>preco</th>\n",
       "      <th>media_area_preco</th>\n",
       "    </tr>\n",
       "  </thead>\n",
       "  <tbody>\n",
       "    <tr>\n",
       "      <th>5</th>\n",
       "      <td>Leblon</td>\n",
       "      <td>25713</td>\n",
       "      <td>$544,934,000.00</td>\n",
       "      <td>$21,192.94</td>\n",
       "    </tr>\n",
       "    <tr>\n",
       "      <th>4</th>\n",
       "      <td>Ipanema</td>\n",
       "      <td>28273</td>\n",
       "      <td>$571,299,991.00</td>\n",
       "      <td>$20,206.56</td>\n",
       "    </tr>\n",
       "    <tr>\n",
       "      <th>3</th>\n",
       "      <td>Gávea</td>\n",
       "      <td>18142</td>\n",
       "      <td>$298,187,000.00</td>\n",
       "      <td>$16,436.28</td>\n",
       "    </tr>\n",
       "    <tr>\n",
       "      <th>0</th>\n",
       "      <td>Botafogo</td>\n",
       "      <td>25738</td>\n",
       "      <td>$310,258,387.00</td>\n",
       "      <td>$12,054.49</td>\n",
       "    </tr>\n",
       "    <tr>\n",
       "      <th>1</th>\n",
       "      <td>Copacabana</td>\n",
       "      <td>35242</td>\n",
       "      <td>$420,854,898.00</td>\n",
       "      <td>$11,941.86</td>\n",
       "    </tr>\n",
       "    <tr>\n",
       "      <th>6</th>\n",
       "      <td>Tijuca</td>\n",
       "      <td>27777</td>\n",
       "      <td>$196,101,592.00</td>\n",
       "      <td>$7,059.85</td>\n",
       "    </tr>\n",
       "    <tr>\n",
       "      <th>2</th>\n",
       "      <td>Grajaú</td>\n",
       "      <td>18948</td>\n",
       "      <td>$113,496,195.00</td>\n",
       "      <td>$5,989.88</td>\n",
       "    </tr>\n",
       "  </tbody>\n",
       "</table>\n",
       "</div>"
      ],
      "text/plain": [
       "       bairro   area            preco media_area_preco\n",
       "5      Leblon  25713  $544,934,000.00       $21,192.94\n",
       "4     Ipanema  28273  $571,299,991.00       $20,206.56\n",
       "3       Gávea  18142  $298,187,000.00       $16,436.28\n",
       "0    Botafogo  25738  $310,258,387.00       $12,054.49\n",
       "1  Copacabana  35242  $420,854,898.00       $11,941.86\n",
       "6      Tijuca  27777  $196,101,592.00        $7,059.85\n",
       "2      Grajaú  18948  $113,496,195.00        $5,989.88"
      ]
     },
     "execution_count": 55,
     "metadata": {},
     "output_type": "execute_result"
    }
   ],
   "source": [
    "# Calcular a média relacionando a soma de 'area' e 'preco'\n",
    "soma_area_preco_por_bairro['media_area_preco'] = soma_preco_por_bairro['preco'] / soma_area_por_bairro['area']\n",
    "\n",
    "# Organização da ordem\n",
    "soma_area_preco_por_bairro = soma_area_preco_por_bairro.sort_values(by='media_area_preco', ascending=False)\n",
    "soma_area_preco_por_bairro['media_area_preco'] = soma_area_preco_por_bairro['media_area_preco'].map('${:,.2f}'.format)\n",
    "\n",
    "# Exibir o resultado\n",
    "soma_area_preco_por_bairro"
   ]
  },
  {
   "cell_type": "markdown",
   "metadata": {},
   "source": [
    "Gráfico dos resultados"
   ]
  },
  {
   "cell_type": "code",
   "execution_count": 58,
   "metadata": {},
   "outputs": [
    {
     "name": "stderr",
     "output_type": "stream",
     "text": [
      "C:\\Users\\EDS\\AppData\\Local\\Temp\\ipykernel_19260\\2338036704.py:2: FutureWarning: Indexing with multiple keys (implicitly converted to a tuple of keys) will be deprecated, use a list instead.\n",
      "  soma_area_preco_por_bairro = dados_imob.groupby('bairro')['area', 'preco'].sum().reset_index()\n"
     ]
    },
    {
     "data": {
      "image/png": "[encoded data removed]",
      "text/plain": [
       "<Figure size 1000x800 with 1 Axes>"
      ]
     },
     "metadata": {},
     "output_type": "display_data"
    }
   ],
   "source": [
    "# Agrupar por bairro e calcular a soma de 'area' e 'preco' para cada bairro\n",
    "soma_area_preco_por_bairro = dados_imob.groupby('bairro')['area', 'preco'].sum().reset_index()\n",
    "\n",
    "# Calcular a média relacionando a soma de 'area' e 'preco'\n",
    "soma_area_preco_por_bairro['media_area_preco'] = (\n",
    "    soma_area_preco_por_bairro['preco']\n",
    "    .replace('[\\$,]', '', regex=True)\n",
    "    .astype(float)\n",
    ") / soma_area_preco_por_bairro['area']\n",
    "\n",
    "# Organização da ordem\n",
    "soma_area_preco_por_bairro = soma_area_preco_por_bairro.sort_values(by='media_area_preco', ascending=False)\n",
    "\n",
    "# Configurações de estilo do seaborn\n",
    "sns.set(style=\"whitegrid\")\n",
    "\n",
    "# Criar um gráfico de barras horizontais\n",
    "plt.figure(figsize=(10, 8))\n",
    "sns.barplot(x='media_area_preco', y='bairro', data=soma_area_preco_por_bairro, palette=\"viridis\")\n",
    "\n",
    "# Ajuste dos rótulos do título e dos eixos\n",
    "plt.title('Média de Preço por Área por Bairro', fontsize=16)\n",
    "plt.xlabel('Média de Preço por Área (em Moeda Real)', fontsize=14)\n",
    "plt.ylabel('Bairros', fontsize=14)\n",
    "\n",
    "# Exibir o gráfico\n",
    "plt.show()"
   ]
  }
 ],
 "metadata": {
  "kernelspec": {
   "display_name": "base",
   "language": "python",
   "name": "python3"
  },
  "language_info": {
   "codemirror_mode": {
    "name": "ipython",
    "version": 3
   },
   "file_extension": ".py",
   "mimetype": "text/x-python",
   "name": "python",
   "nbconvert_exporter": "python",
   "pygments_lexer": "ipython3",
   "version": "3.11.4"
  }
 },
 "nbformat": 4,
 "nbformat_minor": 2
}
