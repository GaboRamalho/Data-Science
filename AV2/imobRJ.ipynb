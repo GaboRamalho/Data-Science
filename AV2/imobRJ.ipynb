{
 "cells": [
  {
   "cell_type": "markdown",
   "metadata": {},
   "source": [
    "Analise exploratória inicial dos dados imobiliários do Rio de Janeiro"
   ]
  },
  {
   "cell_type": "code",
   "execution_count": 1,
   "metadata": {},
   "outputs": [],
   "source": [
    "#import das bibliotecas necessárias\n",
    "import pandas as pd"
   ]
  },
  {
   "cell_type": "code",
   "execution_count": 2,
   "metadata": {},
   "outputs": [
    {
     "data": {
      "text/html": [
       "<div>\n",
       "<style scoped>\n",
       "    .dataframe tbody tr th:only-of-type {\n",
       "        vertical-align: middle;\n",
       "    }\n",
       "\n",
       "    .dataframe tbody tr th {\n",
       "        vertical-align: top;\n",
       "    }\n",
       "\n",
       "    .dataframe thead th {\n",
       "        text-align: right;\n",
       "    }\n",
       "</style>\n",
       "<table border=\"1\" class=\"dataframe\">\n",
       "  <thead>\n",
       "    <tr style=\"text-align: right;\">\n",
       "      <th></th>\n",
       "      <th>condominio</th>\n",
       "      <th>quartos</th>\n",
       "      <th>suites</th>\n",
       "      <th>vagas</th>\n",
       "      <th>area</th>\n",
       "      <th>bairro</th>\n",
       "      <th>preco</th>\n",
       "      <th>pm2</th>\n",
       "    </tr>\n",
       "  </thead>\n",
       "  <tbody>\n",
       "    <tr>\n",
       "      <th>1221</th>\n",
       "      <td>315</td>\n",
       "      <td>1</td>\n",
       "      <td>1.0</td>\n",
       "      <td>1.0</td>\n",
       "      <td>50</td>\n",
       "      <td>Tijuca</td>\n",
       "      <td>224999</td>\n",
       "      <td>4499.98</td>\n",
       "    </tr>\n",
       "    <tr>\n",
       "      <th>1474</th>\n",
       "      <td>715</td>\n",
       "      <td>2</td>\n",
       "      <td>1.0</td>\n",
       "      <td>1.0</td>\n",
       "      <td>110</td>\n",
       "      <td>Copacabana</td>\n",
       "      <td>735000</td>\n",
       "      <td>6681.82</td>\n",
       "    </tr>\n",
       "    <tr>\n",
       "      <th>631</th>\n",
       "      <td>1080</td>\n",
       "      <td>2</td>\n",
       "      <td>1.0</td>\n",
       "      <td>1.0</td>\n",
       "      <td>100</td>\n",
       "      <td>Tijuca</td>\n",
       "      <td>680000</td>\n",
       "      <td>6800.00</td>\n",
       "    </tr>\n",
       "    <tr>\n",
       "      <th>1757</th>\n",
       "      <td>1720</td>\n",
       "      <td>3</td>\n",
       "      <td>1.0</td>\n",
       "      <td>1.0</td>\n",
       "      <td>100</td>\n",
       "      <td>Ipanema</td>\n",
       "      <td>1900000</td>\n",
       "      <td>19000.00</td>\n",
       "    </tr>\n",
       "    <tr>\n",
       "      <th>406</th>\n",
       "      <td>452</td>\n",
       "      <td>2</td>\n",
       "      <td>1.0</td>\n",
       "      <td>1.0</td>\n",
       "      <td>90</td>\n",
       "      <td>Ipanema</td>\n",
       "      <td>1380000</td>\n",
       "      <td>15333.33</td>\n",
       "    </tr>\n",
       "  </tbody>\n",
       "</table>\n",
       "</div>"
      ],
      "text/plain": [
       "      condominio  quartos  suites  vagas  area      bairro    preco       pm2\n",
       "1221         315        1     1.0    1.0    50      Tijuca   224999   4499.98\n",
       "1474         715        2     1.0    1.0   110  Copacabana   735000   6681.82\n",
       "631         1080        2     1.0    1.0   100      Tijuca   680000   6800.00\n",
       "1757        1720        3     1.0    1.0   100     Ipanema  1900000  19000.00\n",
       "406          452        2     1.0    1.0    90     Ipanema  1380000  15333.33"
      ]
     },
     "execution_count": 2,
     "metadata": {},
     "output_type": "execute_result"
    }
   ],
   "source": [
    "dados_imob = pd.read_csv('C:\\\\Users\\\\EDS\\\\OneDrive - Extreme Digital Solutions\\\\Documentos\\\\TADS020\\\\Data Science\\\\AV2\\\\imob_RJ.csv', sep = ',')\n",
    "dados_imob.sample(5)"
   ]
  },
  {
   "cell_type": "code",
   "execution_count": 3,
   "metadata": {},
   "outputs": [
    {
     "data": {
      "text/html": [
       "<div>\n",
       "<style scoped>\n",
       "    .dataframe tbody tr th:only-of-type {\n",
       "        vertical-align: middle;\n",
       "    }\n",
       "\n",
       "    .dataframe tbody tr th {\n",
       "        vertical-align: top;\n",
       "    }\n",
       "\n",
       "    .dataframe thead th {\n",
       "        text-align: right;\n",
       "    }\n",
       "</style>\n",
       "<table border=\"1\" class=\"dataframe\">\n",
       "  <thead>\n",
       "    <tr style=\"text-align: right;\">\n",
       "      <th></th>\n",
       "      <th>condominio</th>\n",
       "      <th>quartos</th>\n",
       "      <th>suites</th>\n",
       "      <th>vagas</th>\n",
       "      <th>area</th>\n",
       "      <th>bairro</th>\n",
       "      <th>preco</th>\n",
       "      <th>pm2</th>\n",
       "    </tr>\n",
       "  </thead>\n",
       "  <tbody>\n",
       "    <tr>\n",
       "      <th>0</th>\n",
       "      <td>350</td>\n",
       "      <td>1</td>\n",
       "      <td>0.0</td>\n",
       "      <td>1.0</td>\n",
       "      <td>21</td>\n",
       "      <td>Botafogo</td>\n",
       "      <td>340000</td>\n",
       "      <td>16190.48</td>\n",
       "    </tr>\n",
       "    <tr>\n",
       "      <th>1</th>\n",
       "      <td>800</td>\n",
       "      <td>1</td>\n",
       "      <td>0.0</td>\n",
       "      <td>1.0</td>\n",
       "      <td>64</td>\n",
       "      <td>Botafogo</td>\n",
       "      <td>770000</td>\n",
       "      <td>12031.25</td>\n",
       "    </tr>\n",
       "    <tr>\n",
       "      <th>2</th>\n",
       "      <td>674</td>\n",
       "      <td>1</td>\n",
       "      <td>0.0</td>\n",
       "      <td>1.0</td>\n",
       "      <td>61</td>\n",
       "      <td>Botafogo</td>\n",
       "      <td>600000</td>\n",
       "      <td>9836.07</td>\n",
       "    </tr>\n",
       "    <tr>\n",
       "      <th>3</th>\n",
       "      <td>700</td>\n",
       "      <td>1</td>\n",
       "      <td>1.0</td>\n",
       "      <td>1.0</td>\n",
       "      <td>70</td>\n",
       "      <td>Botafogo</td>\n",
       "      <td>700000</td>\n",
       "      <td>10000.00</td>\n",
       "    </tr>\n",
       "    <tr>\n",
       "      <th>4</th>\n",
       "      <td>440</td>\n",
       "      <td>1</td>\n",
       "      <td>0.0</td>\n",
       "      <td>1.0</td>\n",
       "      <td>44</td>\n",
       "      <td>Botafogo</td>\n",
       "      <td>515000</td>\n",
       "      <td>11704.55</td>\n",
       "    </tr>\n",
       "  </tbody>\n",
       "</table>\n",
       "</div>"
      ],
      "text/plain": [
       "   condominio  quartos  suites  vagas  area    bairro   preco       pm2\n",
       "0         350        1     0.0    1.0    21  Botafogo  340000  16190.48\n",
       "1         800        1     0.0    1.0    64  Botafogo  770000  12031.25\n",
       "2         674        1     0.0    1.0    61  Botafogo  600000   9836.07\n",
       "3         700        1     1.0    1.0    70  Botafogo  700000  10000.00\n",
       "4         440        1     0.0    1.0    44  Botafogo  515000  11704.55"
      ]
     },
     "execution_count": 3,
     "metadata": {},
     "output_type": "execute_result"
    }
   ],
   "source": [
    "dados_imob.head()"
   ]
  },
  {
   "cell_type": "code",
   "execution_count": 4,
   "metadata": {},
   "outputs": [
    {
     "data": {
      "text/plain": [
       "(1997, 8)"
      ]
     },
     "execution_count": 4,
     "metadata": {},
     "output_type": "execute_result"
    }
   ],
   "source": [
    "dados_imob.shape"
   ]
  },
  {
   "cell_type": "code",
   "execution_count": 5,
   "metadata": {},
   "outputs": [
    {
     "data": {
      "text/plain": [
       "Index(['condominio', 'quartos', 'suites', 'vagas', 'area', 'bairro', 'preco',\n",
       "       'pm2'],\n",
       "      dtype='object')"
      ]
     },
     "execution_count": 5,
     "metadata": {},
     "output_type": "execute_result"
    }
   ],
   "source": [
    "dados_imob.columns"
   ]
  },
  {
   "cell_type": "code",
   "execution_count": 6,
   "metadata": {},
   "outputs": [
    {
     "name": "stdout",
     "output_type": "stream",
     "text": [
      "<class 'pandas.core.frame.DataFrame'>\n",
      "RangeIndex: 1997 entries, 0 to 1996\n",
      "Data columns (total 8 columns):\n",
      " #   Column      Non-Null Count  Dtype  \n",
      "---  ------      --------------  -----  \n",
      " 0   condominio  1997 non-null   int64  \n",
      " 1   quartos     1997 non-null   int64  \n",
      " 2   suites      1997 non-null   float64\n",
      " 3   vagas       1997 non-null   float64\n",
      " 4   area        1997 non-null   int64  \n",
      " 5   bairro      1997 non-null   object \n",
      " 6   preco       1997 non-null   int64  \n",
      " 7   pm2         1997 non-null   float64\n",
      "dtypes: float64(3), int64(4), object(1)\n",
      "memory usage: 124.9+ KB\n"
     ]
    }
   ],
   "source": [
    "dados_imob.info()"
   ]
  },
  {
   "cell_type": "code",
   "execution_count": 7,
   "metadata": {},
   "outputs": [
    {
     "data": {
      "text/html": [
       "<div>\n",
       "<style scoped>\n",
       "    .dataframe tbody tr th:only-of-type {\n",
       "        vertical-align: middle;\n",
       "    }\n",
       "\n",
       "    .dataframe tbody tr th {\n",
       "        vertical-align: top;\n",
       "    }\n",
       "\n",
       "    .dataframe thead th {\n",
       "        text-align: right;\n",
       "    }\n",
       "</style>\n",
       "<table border=\"1\" class=\"dataframe\">\n",
       "  <thead>\n",
       "    <tr style=\"text-align: right;\">\n",
       "      <th></th>\n",
       "      <th>condominio</th>\n",
       "      <th>quartos</th>\n",
       "      <th>suites</th>\n",
       "      <th>vagas</th>\n",
       "      <th>area</th>\n",
       "      <th>preco</th>\n",
       "      <th>pm2</th>\n",
       "    </tr>\n",
       "  </thead>\n",
       "  <tbody>\n",
       "    <tr>\n",
       "      <th>count</th>\n",
       "      <td>1997.000000</td>\n",
       "      <td>1997.000000</td>\n",
       "      <td>1997.000000</td>\n",
       "      <td>1997.000000</td>\n",
       "      <td>1997.000000</td>\n",
       "      <td>1.997000e+03</td>\n",
       "      <td>1997.00000</td>\n",
       "    </tr>\n",
       "    <tr>\n",
       "      <th>mean</th>\n",
       "      <td>971.087631</td>\n",
       "      <td>2.128693</td>\n",
       "      <td>1.039559</td>\n",
       "      <td>1.153230</td>\n",
       "      <td>90.051577</td>\n",
       "      <td>1.229410e+06</td>\n",
       "      <td>13256.74635</td>\n",
       "    </tr>\n",
       "    <tr>\n",
       "      <th>std</th>\n",
       "      <td>653.893691</td>\n",
       "      <td>0.793866</td>\n",
       "      <td>0.443091</td>\n",
       "      <td>0.453837</td>\n",
       "      <td>46.417486</td>\n",
       "      <td>1.155809e+06</td>\n",
       "      <td>6977.37614</td>\n",
       "    </tr>\n",
       "    <tr>\n",
       "      <th>min</th>\n",
       "      <td>1.000000</td>\n",
       "      <td>1.000000</td>\n",
       "      <td>0.000000</td>\n",
       "      <td>0.000000</td>\n",
       "      <td>19.000000</td>\n",
       "      <td>1.300000e+05</td>\n",
       "      <td>2600.00000</td>\n",
       "    </tr>\n",
       "    <tr>\n",
       "      <th>25%</th>\n",
       "      <td>550.000000</td>\n",
       "      <td>1.000000</td>\n",
       "      <td>1.000000</td>\n",
       "      <td>1.000000</td>\n",
       "      <td>60.000000</td>\n",
       "      <td>5.600000e+05</td>\n",
       "      <td>7894.74000</td>\n",
       "    </tr>\n",
       "    <tr>\n",
       "      <th>50%</th>\n",
       "      <td>800.000000</td>\n",
       "      <td>2.000000</td>\n",
       "      <td>1.000000</td>\n",
       "      <td>1.000000</td>\n",
       "      <td>80.000000</td>\n",
       "      <td>9.000000e+05</td>\n",
       "      <td>11904.76000</td>\n",
       "    </tr>\n",
       "    <tr>\n",
       "      <th>75%</th>\n",
       "      <td>1200.000000</td>\n",
       "      <td>3.000000</td>\n",
       "      <td>1.000000</td>\n",
       "      <td>1.000000</td>\n",
       "      <td>110.000000</td>\n",
       "      <td>1.550000e+06</td>\n",
       "      <td>17156.86000</td>\n",
       "    </tr>\n",
       "    <tr>\n",
       "      <th>max</th>\n",
       "      <td>7071.000000</td>\n",
       "      <td>3.000000</td>\n",
       "      <td>3.000000</td>\n",
       "      <td>4.000000</td>\n",
       "      <td>475.000000</td>\n",
       "      <td>1.360000e+07</td>\n",
       "      <td>76666.67000</td>\n",
       "    </tr>\n",
       "  </tbody>\n",
       "</table>\n",
       "</div>"
      ],
      "text/plain": [
       "        condominio      quartos       suites        vagas         area  \\\n",
       "count  1997.000000  1997.000000  1997.000000  1997.000000  1997.000000   \n",
       "mean    971.087631     2.128693     1.039559     1.153230    90.051577   \n",
       "std     653.893691     0.793866     0.443091     0.453837    46.417486   \n",
       "min       1.000000     1.000000     0.000000     0.000000    19.000000   \n",
       "25%     550.000000     1.000000     1.000000     1.000000    60.000000   \n",
       "50%     800.000000     2.000000     1.000000     1.000000    80.000000   \n",
       "75%    1200.000000     3.000000     1.000000     1.000000   110.000000   \n",
       "max    7071.000000     3.000000     3.000000     4.000000   475.000000   \n",
       "\n",
       "              preco          pm2  \n",
       "count  1.997000e+03   1997.00000  \n",
       "mean   1.229410e+06  13256.74635  \n",
       "std    1.155809e+06   6977.37614  \n",
       "min    1.300000e+05   2600.00000  \n",
       "25%    5.600000e+05   7894.74000  \n",
       "50%    9.000000e+05  11904.76000  \n",
       "75%    1.550000e+06  17156.86000  \n",
       "max    1.360000e+07  76666.67000  "
      ]
     },
     "execution_count": 7,
     "metadata": {},
     "output_type": "execute_result"
    }
   ],
   "source": [
    "dados_imob.describe()"
   ]
  },
  {
   "cell_type": "markdown",
   "metadata": {},
   "source": [
    "Identificação de quais bairros estão sendo citados e quantas vezes eles aparecem."
   ]
  },
  {
   "cell_type": "code",
   "execution_count": 8,
   "metadata": {},
   "outputs": [
    {
     "data": {
      "text/plain": [
       "Copacabana    346\n",
       "Tijuca        341\n",
       "Botafogo      307\n",
       "Ipanema       281\n",
       "Leblon        280\n",
       "Grajaú        237\n",
       "Gávea         205\n",
       "Name: bairro, dtype: int64"
      ]
     },
     "execution_count": 8,
     "metadata": {},
     "output_type": "execute_result"
    }
   ],
   "source": [
    "locais = dados_imob['bairro'].value_counts()\n",
    "locais"
   ]
  },
  {
   "cell_type": "markdown",
   "metadata": {},
   "source": [
    "A partir dessa identificação é possível perceber que os bairros contido na tabela estão majoritariamente localizados na zona sul do Rio de Janeiro\n",
    "\n",
    "Copacabana - Zona Sul\n",
    "\n",
    "Tijuca - Zona Norte\n",
    "\n",
    "Botafogo - Zona Sul\n",
    "\n",
    "Ipanema - Zona Sul\n",
    "\n",
    "Leblon - Zona Sul\n",
    "\n",
    "Grajaú - Zona Norte\n",
    "\n",
    "Gávea - Zona Sul"
   ]
  },
  {
   "cell_type": "markdown",
   "metadata": {},
   "source": [
    "Vamos analisar alguns pontos com base nos dados fornecidos para construir um pensamento socioeconômico que respalde a ideia de que a Zona Sul do Rio de Janeiro é historicamente mais rica:\n",
    "\n",
    "\n",
    "PIB per Capita:\n",
    "O PIB per capita da cidade do Rio de Janeiro em 2020, a classificou como a 21ª cidade mais rica entre as 92 do estado, isso destaca a concentração de riqueza na região. Esse indicador, ao refletir a média de recebimento por pessoa, sugere uma presença significativa de setores econômicos mais prósperos, indicando um ambiente propício para a geração de renda e desenvolvimento econômico.\n",
    "\n",
    "Faixas Etárias e População Ocupada:\n",
    "Ao considerar as faixas etárias entre 30 e 50 anos, que frequentemente representam estágios avançados de carreiras profissionais, a considerável quantidade de pessoas nesses grupos demográficos (1.866.000) sugere não apenas uma população numericamente expressiva, mas também uma força de trabalho madura e experiente, contribuindo para a vitalidade econômica da cidade.\n",
    "\n",
    "Percentual de Pessoas Ocupadas:\n",
    "O fato de 34.7% da população estar ocupada destaca a participação ativa da comunidade no mercado de trabalho. Esse número considerável indica não apenas uma oferta robusta de empregos, mas também a capacidade da população em contribuir para o crescimento econômico da cidade.\n",
    "\n",
    "Ao analisar esses indicadores de maneira mais abrangente, podemos inferir que a Zona Sul do Rio de Janeiro, como parte integrante da cidade, desempenha um papel crucial na manutenção e ampliação desses padrões socioeconômicos. A presença de figuras proeminentes, como políticos, artistas, empresários e doutores, na Zona Sul, pode ser interpretada como uma resposta à atratividade econômica e qualidade de vida que a região oferece, consolidando-a como um epicentro histórico de prosperidade na cidade.\n"
   ]
  },
  {
   "cell_type": "markdown",
   "metadata": {},
   "source": [
    "Gráfico dos locais que mais são citados na tabela"
   ]
  },
  {
   "cell_type": "code",
   "execution_count": 9,
   "metadata": {},
   "outputs": [],
   "source": [
    "#import da biblioteca para plotar os gráficos\n",
    "\n",
    "import seaborn as sns\n",
    "import matplotlib.pyplot as plt"
   ]
  },
  {
   "cell_type": "code",
   "execution_count": 10,
   "metadata": {},
   "outputs": [
    {
     "data": {
      "image/png": "[encoded data removed]",
      "text/plain": [
       "<Figure size 1000x800 with 1 Axes>"
      ]
     },
     "metadata": {},
     "output_type": "display_data"
    }
   ],
   "source": [
    "# 'dados_imob' é o DataFrame e 'bairro' é a coluna dos bairros\n",
    "locais = dados_imob['bairro'].value_counts()\n",
    "\n",
    "# Configurações de estilo do seaborn\n",
    "sns.set(style=\"whitegrid\")\n",
    "\n",
    "# Criar um gráfico de barras horizontal usando seaborn\n",
    "plt.figure(figsize=(10, 8))\n",
    "sns.barplot(x=locais.values, y=locais.index, palette=\"viridis\")\n",
    "\n",
    "# Ajuste os rótulos do título e dos eixos\n",
    "plt.title('Quantidade de Imóveis por Bairro no Rio de Janeiro', fontsize=16)\n",
    "plt.xlabel('Quantidade de Imóveis', fontsize=14)\n",
    "plt.ylabel('Bairros', fontsize=14)\n",
    "\n",
    "# Exiba o gráfico\n",
    "plt.show()"
   ]
  },
  {
   "cell_type": "markdown",
   "metadata": {},
   "source": [
    "Total de preço do m^2 acumulado no bairro."
   ]
  },
  {
   "cell_type": "code",
   "execution_count": 11,
   "metadata": {},
   "outputs": [
    {
     "data": {
      "text/html": [
       "<div>\n",
       "<style scoped>\n",
       "    .dataframe tbody tr th:only-of-type {\n",
       "        vertical-align: middle;\n",
       "    }\n",
       "\n",
       "    .dataframe tbody tr th {\n",
       "        vertical-align: top;\n",
       "    }\n",
       "\n",
       "    .dataframe thead th {\n",
       "        text-align: right;\n",
       "    }\n",
       "</style>\n",
       "<table border=\"1\" class=\"dataframe\">\n",
       "  <thead>\n",
       "    <tr style=\"text-align: right;\">\n",
       "      <th></th>\n",
       "      <th>bairro</th>\n",
       "      <th>pm2</th>\n",
       "    </tr>\n",
       "  </thead>\n",
       "  <tbody>\n",
       "    <tr>\n",
       "      <th>5</th>\n",
       "      <td>Leblon</td>\n",
       "      <td>$5,813,178.29</td>\n",
       "    </tr>\n",
       "    <tr>\n",
       "      <th>4</th>\n",
       "      <td>Ipanema</td>\n",
       "      <td>$5,546,492.59</td>\n",
       "    </tr>\n",
       "    <tr>\n",
       "      <th>1</th>\n",
       "      <td>Copacabana</td>\n",
       "      <td>$4,139,993.35</td>\n",
       "    </tr>\n",
       "    <tr>\n",
       "      <th>0</th>\n",
       "      <td>Botafogo</td>\n",
       "      <td>$3,694,587.26</td>\n",
       "    </tr>\n",
       "    <tr>\n",
       "      <th>3</th>\n",
       "      <td>Gávea</td>\n",
       "      <td>$3,384,874.47</td>\n",
       "    </tr>\n",
       "    <tr>\n",
       "      <th>6</th>\n",
       "      <td>Tijuca</td>\n",
       "      <td>$2,438,083.50</td>\n",
       "    </tr>\n",
       "    <tr>\n",
       "      <th>2</th>\n",
       "      <td>Grajaú</td>\n",
       "      <td>$1,456,513.00</td>\n",
       "    </tr>\n",
       "  </tbody>\n",
       "</table>\n",
       "</div>"
      ],
      "text/plain": [
       "       bairro            pm2\n",
       "5      Leblon  $5,813,178.29\n",
       "4     Ipanema  $5,546,492.59\n",
       "1  Copacabana  $4,139,993.35\n",
       "0    Botafogo  $3,694,587.26\n",
       "3       Gávea  $3,384,874.47\n",
       "6      Tijuca  $2,438,083.50\n",
       "2      Grajaú  $1,456,513.00"
      ]
     },
     "execution_count": 11,
     "metadata": {},
     "output_type": "execute_result"
    }
   ],
   "source": [
    "# Agrupar por bairro e calcular a soma da coluna 'pm2' para cada bairro\n",
    "soma_pm2_por_bairro = dados_imob.groupby('bairro')['pm2'].sum().reset_index()\n",
    "\n",
    "# Ordenar em ordem decrescente pela coluna 'pm2'\n",
    "soma_pm2_por_bairro = soma_pm2_por_bairro.sort_values(by='pm2', ascending=False)\n",
    "\n",
    "# Formatar a coluna 'pm2' em formato de moeda real\n",
    "soma_pm2_por_bairro['pm2'] = soma_pm2_por_bairro['pm2'].map('${:,.2f}'.format)\n",
    "\n",
    "#print do resultado\n",
    "soma_pm2_por_bairro"
   ]
  },
  {
   "cell_type": "markdown",
   "metadata": {},
   "source": [
    "O bairro do Leblon, no Rio de Janeiro, destaca-se como a localidade com o metro quadrado mais valorizado do Brasil, conforme apontado pelo Índice FipeZAP+ de Venda Residencial. Este índice, desenvolvido pela Fundação Instituto de Pesquisas Econômicas em parceria com a plataforma de gestão de anúncios pagos nos sites da OLX Brasil (Zap, OLX e VivaReal), revelou que, em agosto, o preço médio do metro quadrado para a venda de imóveis no Leblon atingiu a cifra de R$ 22.445,00, estabelecendo-se como o mais elevado entre todas as localidades analisadas pelo índice. Na segunda posição, figura o também prestigiado bairro carioca de Ipanema, com um valor médio de R$ 20.818,00 por metro quadrado."
   ]
  },
  {
   "cell_type": "markdown",
   "metadata": {},
   "source": [
    "Gráfico dos resultados do total de preço do m^2 acumulado no bairro."
   ]
  },
  {
   "cell_type": "code",
   "execution_count": 12,
   "metadata": {},
   "outputs": [
    {
     "data": {
      "image/png": "[encoded data removed]",
      "text/plain": [
       "<Figure size 1000x800 with 1 Axes>"
      ]
     },
     "metadata": {},
     "output_type": "display_data"
    }
   ],
   "source": [
    "# Agrupar por bairro e calcular a soma da coluna 'pm2' para cada bairro\n",
    "soma_pm2_por_bairro = dados_imob.groupby('bairro')['pm2'].sum().reset_index()\n",
    "\n",
    "# Ordenar em ordem decrescente pela coluna 'pm2'\n",
    "soma_pm2_por_bairro = soma_pm2_por_bairro.sort_values(by='pm2', ascending=False)\n",
    "\n",
    "# Converter a coluna 'pm2' para numérica (removendo o formato de moeda)\n",
    "soma_pm2_por_bairro['pm2'] = soma_pm2_por_bairro['pm2'].replace('[\\$,]', '', regex=True).astype(float)\n",
    "\n",
    "# Configurações de estilo do seaborn\n",
    "sns.set(style=\"whitegrid\")\n",
    "\n",
    "# Criar um gráfico de barras horizontais\n",
    "plt.figure(figsize=(10, 8))\n",
    "sns.barplot(x='pm2', y='bairro', data=soma_pm2_por_bairro, palette=\"viridis\")\n",
    "\n",
    "# Ajuste dos rótulos do título e dos eixos\n",
    "plt.title('Total acumulado em m² por bairro', fontsize=16)\n",
    "plt.xlabel('Soma de pm2 (em milhões)', fontsize=14)\n",
    "plt.ylabel('Bairros', fontsize=14)\n",
    "\n",
    "# Exibir o gráfico\n",
    "plt.show()"
   ]
  },
  {
   "cell_type": "markdown",
   "metadata": {},
   "source": [
    "Soma geral do preço dos imóveis por bairro. "
   ]
  },
  {
   "cell_type": "code",
   "execution_count": 13,
   "metadata": {},
   "outputs": [
    {
     "data": {
      "text/html": [
       "<div>\n",
       "<style scoped>\n",
       "    .dataframe tbody tr th:only-of-type {\n",
       "        vertical-align: middle;\n",
       "    }\n",
       "\n",
       "    .dataframe tbody tr th {\n",
       "        vertical-align: top;\n",
       "    }\n",
       "\n",
       "    .dataframe thead th {\n",
       "        text-align: right;\n",
       "    }\n",
       "</style>\n",
       "<table border=\"1\" class=\"dataframe\">\n",
       "  <thead>\n",
       "    <tr style=\"text-align: right;\">\n",
       "      <th></th>\n",
       "      <th>bairro</th>\n",
       "      <th>preco</th>\n",
       "    </tr>\n",
       "  </thead>\n",
       "  <tbody>\n",
       "    <tr>\n",
       "      <th>4</th>\n",
       "      <td>Ipanema</td>\n",
       "      <td>$571,299,991.00</td>\n",
       "    </tr>\n",
       "    <tr>\n",
       "      <th>5</th>\n",
       "      <td>Leblon</td>\n",
       "      <td>$544,934,000.00</td>\n",
       "    </tr>\n",
       "    <tr>\n",
       "      <th>1</th>\n",
       "      <td>Copacabana</td>\n",
       "      <td>$420,854,898.00</td>\n",
       "    </tr>\n",
       "    <tr>\n",
       "      <th>0</th>\n",
       "      <td>Botafogo</td>\n",
       "      <td>$310,258,387.00</td>\n",
       "    </tr>\n",
       "    <tr>\n",
       "      <th>3</th>\n",
       "      <td>Gávea</td>\n",
       "      <td>$298,187,000.00</td>\n",
       "    </tr>\n",
       "    <tr>\n",
       "      <th>6</th>\n",
       "      <td>Tijuca</td>\n",
       "      <td>$196,101,592.00</td>\n",
       "    </tr>\n",
       "    <tr>\n",
       "      <th>2</th>\n",
       "      <td>Grajaú</td>\n",
       "      <td>$113,496,195.00</td>\n",
       "    </tr>\n",
       "  </tbody>\n",
       "</table>\n",
       "</div>"
      ],
      "text/plain": [
       "       bairro            preco\n",
       "4     Ipanema  $571,299,991.00\n",
       "5      Leblon  $544,934,000.00\n",
       "1  Copacabana  $420,854,898.00\n",
       "0    Botafogo  $310,258,387.00\n",
       "3       Gávea  $298,187,000.00\n",
       "6      Tijuca  $196,101,592.00\n",
       "2      Grajaú  $113,496,195.00"
      ]
     },
     "execution_count": 13,
     "metadata": {},
     "output_type": "execute_result"
    }
   ],
   "source": [
    "# Agrupar por bairro e calcular a soma da coluna 'pm2' para cada bairro\n",
    "soma_preco_por_bairro = dados_imob.groupby('bairro')['preco'].sum().reset_index()\n",
    "\n",
    "# Ordenar em ordem decrescente pela coluna 'pm2'\n",
    "soma_preco_por_bairro = soma_preco_por_bairro.sort_values(by='preco', ascending=False)\n",
    "\n",
    "# Formatar a coluna 'pm2' em formato de moeda real\n",
    "soma_preco_por_bairro['preco'] = soma_preco_por_bairro['preco'].map('${:,.2f}'.format)\n",
    "\n",
    "#print do resultado\n",
    "soma_preco_por_bairro"
   ]
  },
  {
   "cell_type": "markdown",
   "metadata": {},
   "source": [
    "Gráfico dos resultados da soma por preço"
   ]
  },
  {
   "cell_type": "code",
   "execution_count": 23,
   "metadata": {},
   "outputs": [
    {
     "data": {
      "image/png": "[encoded data removed]",
      "text/plain": [
       "<Figure size 1000x800 with 1 Axes>"
      ]
     },
     "metadata": {},
     "output_type": "display_data"
    }
   ],
   "source": [
    "# Agrupar por bairro e calcular a soma da coluna 'pm2' para cada bairro\n",
    "soma_preco_por_bairro = dados_imob.groupby('bairro')['preco'].sum().reset_index()\n",
    "\n",
    "# Ordenar em ordem decrescente pela coluna 'pm2'\n",
    "soma_preco_por_bairro = soma_preco_por_bairro.sort_values(by='preco', ascending=False)\n",
    "\n",
    "# Converter a coluna 'pm2' para numérica (removendo o formato de moeda)\n",
    "soma_preco_por_bairro['preco'] = soma_preco_por_bairro['preco'].replace('[\\$,]', '', regex=True).astype(float)\n",
    "\n",
    "# Configurações de estilo do seaborn\n",
    "sns.set(style=\"whitegrid\")\n",
    "\n",
    "# Criar um gráfico de barras horizontais\n",
    "plt.figure(figsize=(10, 8))\n",
    "sns.barplot(x='preco', y='bairro', data=soma_preco_por_bairro, palette=\"viridis\")\n",
    "\n",
    "# Ajuste dos rótulos do título e dos eixos\n",
    "plt.title('Total preço de imóvel por bairro', fontsize=16)\n",
    "plt.xlabel('Soma do preço (em milhões)', fontsize=14)\n",
    "plt.ylabel('Bairros', fontsize=14)\n",
    "\n",
    "#legenda informativa para o gráfico\n",
    "plt.legend(title='conta-se em centenas', loc='best', labels=['Soma de preco'])\n",
    "\n",
    "# Exibir o gráfico\n",
    "plt.show()"
   ]
  },
  {
   "cell_type": "markdown",
   "metadata": {},
   "source": [
    "Soma das áreas por bairro"
   ]
  },
  {
   "cell_type": "code",
   "execution_count": 15,
   "metadata": {},
   "outputs": [
    {
     "data": {
      "text/html": [
       "<div>\n",
       "<style scoped>\n",
       "    .dataframe tbody tr th:only-of-type {\n",
       "        vertical-align: middle;\n",
       "    }\n",
       "\n",
       "    .dataframe tbody tr th {\n",
       "        vertical-align: top;\n",
       "    }\n",
       "\n",
       "    .dataframe thead th {\n",
       "        text-align: right;\n",
       "    }\n",
       "</style>\n",
       "<table border=\"1\" class=\"dataframe\">\n",
       "  <thead>\n",
       "    <tr style=\"text-align: right;\">\n",
       "      <th></th>\n",
       "      <th>bairro</th>\n",
       "      <th>area</th>\n",
       "    </tr>\n",
       "  </thead>\n",
       "  <tbody>\n",
       "    <tr>\n",
       "      <th>1</th>\n",
       "      <td>Copacabana</td>\n",
       "      <td>35242</td>\n",
       "    </tr>\n",
       "    <tr>\n",
       "      <th>4</th>\n",
       "      <td>Ipanema</td>\n",
       "      <td>28273</td>\n",
       "    </tr>\n",
       "    <tr>\n",
       "      <th>6</th>\n",
       "      <td>Tijuca</td>\n",
       "      <td>27777</td>\n",
       "    </tr>\n",
       "    <tr>\n",
       "      <th>0</th>\n",
       "      <td>Botafogo</td>\n",
       "      <td>25738</td>\n",
       "    </tr>\n",
       "    <tr>\n",
       "      <th>5</th>\n",
       "      <td>Leblon</td>\n",
       "      <td>25713</td>\n",
       "    </tr>\n",
       "    <tr>\n",
       "      <th>2</th>\n",
       "      <td>Grajaú</td>\n",
       "      <td>18948</td>\n",
       "    </tr>\n",
       "    <tr>\n",
       "      <th>3</th>\n",
       "      <td>Gávea</td>\n",
       "      <td>18142</td>\n",
       "    </tr>\n",
       "  </tbody>\n",
       "</table>\n",
       "</div>"
      ],
      "text/plain": [
       "       bairro   area\n",
       "1  Copacabana  35242\n",
       "4     Ipanema  28273\n",
       "6      Tijuca  27777\n",
       "0    Botafogo  25738\n",
       "5      Leblon  25713\n",
       "2      Grajaú  18948\n",
       "3       Gávea  18142"
      ]
     },
     "execution_count": 15,
     "metadata": {},
     "output_type": "execute_result"
    }
   ],
   "source": [
    "# Agrupar por bairro e calcular a soma da coluna 'area' para cada bairro\n",
    "soma_area_por_bairro = dados_imob.groupby('bairro')['area'].sum().reset_index()\n",
    "\n",
    "# Ordenar em ordem decrescente pela coluna 'pm2'\n",
    "soma_area_por_bairro = soma_area_por_bairro.sort_values(by='area', ascending=False)\n",
    "\n",
    "# Exibir o resultado\n",
    "soma_area_por_bairro"
   ]
  },
  {
   "cell_type": "markdown",
   "metadata": {},
   "source": [
    "Gráfico do resultado da soma"
   ]
  },
  {
   "cell_type": "code",
   "execution_count": 16,
   "metadata": {},
   "outputs": [
    {
     "data": {
      "image/png": "[encoded data removed]",
      "text/plain": [
       "<Figure size 1000x800 with 1 Axes>"
      ]
     },
     "metadata": {},
     "output_type": "display_data"
    }
   ],
   "source": [
    "# Configurações de estilo do seaborn\n",
    "sns.set(style=\"whitegrid\")\n",
    "\n",
    "# Criar um gráfico de barras horizontais\n",
    "plt.figure(figsize=(10, 8))\n",
    "sns.barplot(x='area', y='bairro', data=soma_area_por_bairro, palette=\"viridis\")\n",
    "\n",
    "# Ajuste dos rótulos do título e dos eixos\n",
    "plt.title('Soma da Coluna Area por Bairro', fontsize=16)\n",
    "plt.xlabel('Soma de Área', fontsize=14)\n",
    "plt.ylabel('Bairros', fontsize=14)\n",
    "\n",
    "# Exibir o gráfico\n",
    "plt.show()"
   ]
  },
  {
   "cell_type": "markdown",
   "metadata": {},
   "source": [
    "Estabelecimento da relação entre o total de area habitada pelo total do preço do imóvel"
   ]
  },
  {
   "cell_type": "code",
   "execution_count": 24,
   "metadata": {},
   "outputs": [
    {
     "data": {
      "text/html": [
       "<div>\n",
       "<style scoped>\n",
       "    .dataframe tbody tr th:only-of-type {\n",
       "        vertical-align: middle;\n",
       "    }\n",
       "\n",
       "    .dataframe tbody tr th {\n",
       "        vertical-align: top;\n",
       "    }\n",
       "\n",
       "    .dataframe thead th {\n",
       "        text-align: right;\n",
       "    }\n",
       "</style>\n",
       "<table border=\"1\" class=\"dataframe\">\n",
       "  <thead>\n",
       "    <tr style=\"text-align: right;\">\n",
       "      <th></th>\n",
       "      <th>bairro</th>\n",
       "      <th>area</th>\n",
       "      <th>media_area_preco</th>\n",
       "    </tr>\n",
       "  </thead>\n",
       "  <tbody>\n",
       "    <tr>\n",
       "      <th>5</th>\n",
       "      <td>Leblon</td>\n",
       "      <td>25713</td>\n",
       "      <td>$21,192.94</td>\n",
       "    </tr>\n",
       "    <tr>\n",
       "      <th>4</th>\n",
       "      <td>Ipanema</td>\n",
       "      <td>28273</td>\n",
       "      <td>$20,206.56</td>\n",
       "    </tr>\n",
       "    <tr>\n",
       "      <th>3</th>\n",
       "      <td>Gávea</td>\n",
       "      <td>18142</td>\n",
       "      <td>$16,436.28</td>\n",
       "    </tr>\n",
       "    <tr>\n",
       "      <th>0</th>\n",
       "      <td>Botafogo</td>\n",
       "      <td>25738</td>\n",
       "      <td>$12,054.49</td>\n",
       "    </tr>\n",
       "    <tr>\n",
       "      <th>1</th>\n",
       "      <td>Copacabana</td>\n",
       "      <td>35242</td>\n",
       "      <td>$11,941.86</td>\n",
       "    </tr>\n",
       "    <tr>\n",
       "      <th>6</th>\n",
       "      <td>Tijuca</td>\n",
       "      <td>27777</td>\n",
       "      <td>$7,059.85</td>\n",
       "    </tr>\n",
       "    <tr>\n",
       "      <th>2</th>\n",
       "      <td>Grajaú</td>\n",
       "      <td>18948</td>\n",
       "      <td>$5,989.88</td>\n",
       "    </tr>\n",
       "  </tbody>\n",
       "</table>\n",
       "</div>"
      ],
      "text/plain": [
       "       bairro   area media_area_preco\n",
       "5      Leblon  25713       $21,192.94\n",
       "4     Ipanema  28273       $20,206.56\n",
       "3       Gávea  18142       $16,436.28\n",
       "0    Botafogo  25738       $12,054.49\n",
       "1  Copacabana  35242       $11,941.86\n",
       "6      Tijuca  27777        $7,059.85\n",
       "2      Grajaú  18948        $5,989.88"
      ]
     },
     "execution_count": 24,
     "metadata": {},
     "output_type": "execute_result"
    }
   ],
   "source": [
    "# Calcular a média relacionando a soma de 'area' e 'preco'\n",
    "soma_area_por_bairro['media_area_preco'] = soma_preco_por_bairro['preco'] / soma_area_por_bairro['area']\n",
    "\n",
    "# Organização da ordem\n",
    "soma_area_preco_por_bairro = soma_area_por_bairro.sort_values(by='media_area_preco', ascending=False)\n",
    "soma_area_preco_por_bairro['media_area_preco'] = soma_area_preco_por_bairro['media_area_preco'].map('${:,.2f}'.format)\n",
    "\n",
    "# Exibir o resultado\n",
    "soma_area_preco_por_bairro"
   ]
  },
  {
   "cell_type": "markdown",
   "metadata": {},
   "source": [
    "Gráfico dos resultados"
   ]
  },
  {
   "cell_type": "code",
   "execution_count": null,
   "metadata": {},
   "outputs": [
    {
     "name": "stderr",
     "output_type": "stream",
     "text": [
      "C:\\Users\\EDS\\AppData\\Local\\Temp\\ipykernel_19260\\2338036704.py:2: FutureWarning: Indexing with multiple keys (implicitly converted to a tuple of keys) will be deprecated, use a list instead.\n",
      "  soma_area_preco_por_bairro = dados_imob.groupby('bairro')['area', 'preco'].sum().reset_index()\n"
     ]
    },
    {
     "data": {
      "image/png": "[encoded data removed]",
      "text/plain": [
       "<Figure size 1000x800 with 1 Axes>"
      ]
     },
     "metadata": {},
     "output_type": "display_data"
    }
   ],
   "source": [
    "# Agrupar por bairro e calcular a soma de 'area' e 'preco' para cada bairro\n",
    "soma_area_preco_por_bairro = dados_imob.groupby('bairro')['area', 'preco'].sum().reset_index()\n",
    "\n",
    "# Calcular a média relacionando a soma de 'area' e 'preco'\n",
    "soma_area_preco_por_bairro['media_area_preco'] = (\n",
    "    soma_area_preco_por_bairro['preco']\n",
    "    .replace('[\\$,]', '', regex=True)\n",
    "    .astype(float)\n",
    ") / soma_area_preco_por_bairro['area']\n",
    "\n",
    "# Organização da ordem\n",
    "soma_area_preco_por_bairro = soma_area_preco_por_bairro.sort_values(by='media_area_preco', ascending=False)\n",
    "\n",
    "# Configurações de estilo do seaborn\n",
    "sns.set(style=\"whitegrid\")\n",
    "\n",
    "# Criar um gráfico de barras horizontais\n",
    "plt.figure(figsize=(10, 8))\n",
    "sns.barplot(x='media_area_preco', y='bairro', data=soma_area_preco_por_bairro, palette=\"viridis\")\n",
    "\n",
    "# Ajuste dos rótulos do título e dos eixos\n",
    "plt.title('Média de Preço por Área por Bairro', fontsize=16)\n",
    "plt.xlabel('Média de Preço por Área (em Moeda Real)', fontsize=14)\n",
    "plt.ylabel('Bairros', fontsize=14)\n",
    "\n",
    "# Exibir o gráfico\n",
    "plt.show()"
   ]
  },
  {
   "cell_type": "markdown",
   "metadata": {},
   "source": [
    "Quantos imóveis existem com área maior que 90m²? "
   ]
  },
  {
   "cell_type": "code",
   "execution_count": 33,
   "metadata": {},
   "outputs": [
    {
     "data": {
      "text/html": [
       "<div>\n",
       "<style scoped>\n",
       "    .dataframe tbody tr th:only-of-type {\n",
       "        vertical-align: middle;\n",
       "    }\n",
       "\n",
       "    .dataframe tbody tr th {\n",
       "        vertical-align: top;\n",
       "    }\n",
       "\n",
       "    .dataframe thead th {\n",
       "        text-align: right;\n",
       "    }\n",
       "</style>\n",
       "<table border=\"1\" class=\"dataframe\">\n",
       "  <thead>\n",
       "    <tr style=\"text-align: right;\">\n",
       "      <th></th>\n",
       "      <th>bairro</th>\n",
       "      <th>quantidade_imoveis</th>\n",
       "    </tr>\n",
       "  </thead>\n",
       "  <tbody>\n",
       "    <tr>\n",
       "      <th>1</th>\n",
       "      <td>Copacabana</td>\n",
       "      <td>146</td>\n",
       "    </tr>\n",
       "    <tr>\n",
       "      <th>4</th>\n",
       "      <td>Ipanema</td>\n",
       "      <td>132</td>\n",
       "    </tr>\n",
       "    <tr>\n",
       "      <th>5</th>\n",
       "      <td>Leblon</td>\n",
       "      <td>127</td>\n",
       "    </tr>\n",
       "    <tr>\n",
       "      <th>0</th>\n",
       "      <td>Botafogo</td>\n",
       "      <td>103</td>\n",
       "    </tr>\n",
       "    <tr>\n",
       "      <th>6</th>\n",
       "      <td>Tijuca</td>\n",
       "      <td>103</td>\n",
       "    </tr>\n",
       "    <tr>\n",
       "      <th>3</th>\n",
       "      <td>Gávea</td>\n",
       "      <td>88</td>\n",
       "    </tr>\n",
       "    <tr>\n",
       "      <th>2</th>\n",
       "      <td>Grajaú</td>\n",
       "      <td>65</td>\n",
       "    </tr>\n",
       "  </tbody>\n",
       "</table>\n",
       "</div>"
      ],
      "text/plain": [
       "       bairro  quantidade_imoveis\n",
       "1  Copacabana                 146\n",
       "4     Ipanema                 132\n",
       "5      Leblon                 127\n",
       "0    Botafogo                 103\n",
       "6      Tijuca                 103\n",
       "3       Gávea                  88\n",
       "2      Grajaú                  65"
      ]
     },
     "execution_count": 33,
     "metadata": {},
     "output_type": "execute_result"
    }
   ],
   "source": [
    "# Filtrar os imóveis com área maior que 90\n",
    "minimo_por_area_imoveis = dados_imob[dados_imob['area'] > 90]\n",
    "\n",
    "# Contar a quantidade de imóveis por bairro\n",
    "quantidade_imoveis_por_bairro = minimo_por_area_imoveis.groupby('bairro')['area'].count().reset_index()\n",
    "\n",
    "# Renomear a coluna 'area' para 'quantidade_imoveis'\n",
    "quantidade_imoveis_por_bairro = quantidade_imoveis_por_bairro.rename(columns={'area': 'quantidade_imoveis'})\n",
    "\n",
    "# Exibir o resultado\n",
    "quantidade_imoveis_por_bairro.sort_values(by='quantidade_imoveis', ascending=False)\n"
   ]
  },
  {
   "cell_type": "markdown",
   "metadata": {},
   "source": [
    "Qual a quantidade de imoveis com 200m² ou mais?"
   ]
  },
  {
   "cell_type": "code",
   "execution_count": 38,
   "metadata": {},
   "outputs": [
    {
     "data": {
      "text/html": [
       "<div>\n",
       "<style scoped>\n",
       "    .dataframe tbody tr th:only-of-type {\n",
       "        vertical-align: middle;\n",
       "    }\n",
       "\n",
       "    .dataframe tbody tr th {\n",
       "        vertical-align: top;\n",
       "    }\n",
       "\n",
       "    .dataframe thead th {\n",
       "        text-align: right;\n",
       "    }\n",
       "</style>\n",
       "<table border=\"1\" class=\"dataframe\">\n",
       "  <thead>\n",
       "    <tr style=\"text-align: right;\">\n",
       "      <th></th>\n",
       "      <th>bairro</th>\n",
       "      <th>quantidade_imoveis</th>\n",
       "    </tr>\n",
       "  </thead>\n",
       "  <tbody>\n",
       "    <tr>\n",
       "      <th>1</th>\n",
       "      <td>Copacabana</td>\n",
       "      <td>33</td>\n",
       "    </tr>\n",
       "    <tr>\n",
       "      <th>4</th>\n",
       "      <td>Ipanema</td>\n",
       "      <td>15</td>\n",
       "    </tr>\n",
       "    <tr>\n",
       "      <th>0</th>\n",
       "      <td>Botafogo</td>\n",
       "      <td>7</td>\n",
       "    </tr>\n",
       "    <tr>\n",
       "      <th>5</th>\n",
       "      <td>Leblon</td>\n",
       "      <td>5</td>\n",
       "    </tr>\n",
       "    <tr>\n",
       "      <th>3</th>\n",
       "      <td>Gávea</td>\n",
       "      <td>2</td>\n",
       "    </tr>\n",
       "    <tr>\n",
       "      <th>2</th>\n",
       "      <td>Grajaú</td>\n",
       "      <td>1</td>\n",
       "    </tr>\n",
       "    <tr>\n",
       "      <th>6</th>\n",
       "      <td>Tijuca</td>\n",
       "      <td>1</td>\n",
       "    </tr>\n",
       "  </tbody>\n",
       "</table>\n",
       "</div>"
      ],
      "text/plain": [
       "       bairro  quantidade_imoveis\n",
       "1  Copacabana                  33\n",
       "4     Ipanema                  15\n",
       "0    Botafogo                   7\n",
       "5      Leblon                   5\n",
       "3       Gávea                   2\n",
       "2      Grajaú                   1\n",
       "6      Tijuca                   1"
      ]
     },
     "execution_count": 38,
     "metadata": {},
     "output_type": "execute_result"
    }
   ],
   "source": [
    "# Filtrar os imóveis com área maior que 200\n",
    "imoveis_grande = dados_imob[dados_imob['area'] >= 200]\n",
    "\n",
    "# Contar a quantidade de imóveis por bairro\n",
    "imoveis_grande_por_bairro = imoveis_grande.groupby('bairro')['area'].count().reset_index()\n",
    "\n",
    "# Renomear a coluna 'area' para 'quantidade_imoveis'\n",
    "imoveis_grande_por_bairro = imoveis_grande_por_bairro.rename(columns={'area': 'quantidade_imoveis'})\n",
    "\n",
    "# Exibir o resultado\n",
    "imoveis_grande_por_bairro.sort_values(by='quantidade_imoveis', ascending=False)\n"
   ]
  },
  {
   "cell_type": "markdown",
   "metadata": {},
   "source": [
    "Qual a quantidade de imoveis entre 50 e 70 m²?"
   ]
  },
  {
   "cell_type": "code",
   "execution_count": 47,
   "metadata": {},
   "outputs": [
    {
     "data": {
      "text/html": [
       "<div>\n",
       "<style scoped>\n",
       "    .dataframe tbody tr th:only-of-type {\n",
       "        vertical-align: middle;\n",
       "    }\n",
       "\n",
       "    .dataframe tbody tr th {\n",
       "        vertical-align: top;\n",
       "    }\n",
       "\n",
       "    .dataframe thead th {\n",
       "        text-align: right;\n",
       "    }\n",
       "</style>\n",
       "<table border=\"1\" class=\"dataframe\">\n",
       "  <thead>\n",
       "    <tr style=\"text-align: right;\">\n",
       "      <th></th>\n",
       "      <th>bairro</th>\n",
       "      <th>quantidade_imoveis</th>\n",
       "    </tr>\n",
       "  </thead>\n",
       "  <tbody>\n",
       "    <tr>\n",
       "      <th>2</th>\n",
       "      <td>Grajaú</td>\n",
       "      <td>91</td>\n",
       "    </tr>\n",
       "    <tr>\n",
       "      <th>6</th>\n",
       "      <td>Tijuca</td>\n",
       "      <td>91</td>\n",
       "    </tr>\n",
       "    <tr>\n",
       "      <th>0</th>\n",
       "      <td>Botafogo</td>\n",
       "      <td>70</td>\n",
       "    </tr>\n",
       "    <tr>\n",
       "      <th>5</th>\n",
       "      <td>Leblon</td>\n",
       "      <td>58</td>\n",
       "    </tr>\n",
       "    <tr>\n",
       "      <th>4</th>\n",
       "      <td>Ipanema</td>\n",
       "      <td>56</td>\n",
       "    </tr>\n",
       "    <tr>\n",
       "      <th>1</th>\n",
       "      <td>Copacabana</td>\n",
       "      <td>51</td>\n",
       "    </tr>\n",
       "    <tr>\n",
       "      <th>3</th>\n",
       "      <td>Gávea</td>\n",
       "      <td>42</td>\n",
       "    </tr>\n",
       "  </tbody>\n",
       "</table>\n",
       "</div>"
      ],
      "text/plain": [
       "       bairro  quantidade_imoveis\n",
       "2      Grajaú                  91\n",
       "6      Tijuca                  91\n",
       "0    Botafogo                  70\n",
       "5      Leblon                  58\n",
       "4     Ipanema                  56\n",
       "1  Copacabana                  51\n",
       "3       Gávea                  42"
      ]
     },
     "execution_count": 47,
     "metadata": {},
     "output_type": "execute_result"
    }
   ],
   "source": [
    "# Filtrar os imóveis com área entre 50 e 70 metros\n",
    "imoveis_50_70 = dados_imob[(dados_imob['area'] >= 50) & (dados_imob['area'] <= 70)]\n",
    "\n",
    "# Contar a quantidade de imóveis por bairro\n",
    "imoveis_50_70_por_bairro = imoveis_50_70.groupby('bairro')['area'].count().reset_index()\n",
    "\n",
    "# Renomear a coluna 'area' para 'quantidade_imoveis'\n",
    "imoveis_50_70_por_bairro = imoveis_50_70_por_bairro.rename(columns={'area': 'quantidade_imoveis'})\n",
    "\n",
    "# Exibir o resultado\n",
    "imoveis_50_70_por_bairro.sort_values(by='quantidade_imoveis', ascending=False)\n"
   ]
  },
  {
   "cell_type": "markdown",
   "metadata": {},
   "source": [
    "Resultado geral dos cálculos anteriores"
   ]
  },
  {
   "cell_type": "code",
   "execution_count": 57,
   "metadata": {},
   "outputs": [
    {
     "ename": "KeyError",
     "evalue": "'Column not found: preco'",
     "output_type": "error",
     "traceback": [
      "\u001b[1;31m---------------------------------------------------------------------------\u001b[0m",
      "\u001b[1;31mKeyError\u001b[0m                                  Traceback (most recent call last)",
      "\u001b[1;32mc:\\Users\\EDS\\OneDrive - Extreme Digital Solutions\\Documentos\\TADS020\\Data Science\\AV2\\imobRJ.ipynb Célula 40\u001b[0m line \u001b[0;36m2\n\u001b[0;32m      <a href='vscode-notebook-cell:/c%3A/Users/EDS/OneDrive%20-%20Extreme%20Digital%20Solutions/Documentos/TADS020/Data%20Science/AV2/imobRJ.ipynb#X61sZmlsZQ%3D%3D?line=0'>1</a>\u001b[0m \u001b[39m# Calcular o valor médio por imóvel em cada bairro\u001b[39;00m\n\u001b[1;32m----> <a href='vscode-notebook-cell:/c%3A/Users/EDS/OneDrive%20-%20Extreme%20Digital%20Solutions/Documentos/TADS020/Data%20Science/AV2/imobRJ.ipynb#X61sZmlsZQ%3D%3D?line=1'>2</a>\u001b[0m media_preco_por_bairro_50_70 \u001b[39m=\u001b[39m imoveis_50_70_por_bairro\u001b[39m.\u001b[39;49mgroupby(\u001b[39m'\u001b[39;49m\u001b[39mbairro\u001b[39;49m\u001b[39m'\u001b[39;49m)[\u001b[39m'\u001b[39;49m\u001b[39mpreco\u001b[39;49m\u001b[39m'\u001b[39;49m]\u001b[39m.\u001b[39mmean()\u001b[39m.\u001b[39mreset_index(name\u001b[39m=\u001b[39m\u001b[39m'\u001b[39m\u001b[39mmedia_preco_por_bairro_50_70\u001b[39m\u001b[39m'\u001b[39m)\n\u001b[0;32m      <a href='vscode-notebook-cell:/c%3A/Users/EDS/OneDrive%20-%20Extreme%20Digital%20Solutions/Documentos/TADS020/Data%20Science/AV2/imobRJ.ipynb#X61sZmlsZQ%3D%3D?line=3'>4</a>\u001b[0m \u001b[39m# Formatar os valores em moeda real\u001b[39;00m\n\u001b[0;32m      <a href='vscode-notebook-cell:/c%3A/Users/EDS/OneDrive%20-%20Extreme%20Digital%20Solutions/Documentos/TADS020/Data%20Science/AV2/imobRJ.ipynb#X61sZmlsZQ%3D%3D?line=4'>5</a>\u001b[0m media_preco_por_bairro_50_70[\u001b[39m'\u001b[39m\u001b[39mmedia_preco_por_bairro_50_70\u001b[39m\u001b[39m'\u001b[39m] \u001b[39m=\u001b[39m media_preco_por_bairro_50_70[\u001b[39m'\u001b[39m\u001b[39mmedia_preco_por_bairro_50_70\u001b[39m\u001b[39m'\u001b[39m]\u001b[39m.\u001b[39mmap(\u001b[39m'\u001b[39m\u001b[39mR$\u001b[39m\u001b[39m{:,.2f}\u001b[39;00m\u001b[39m'\u001b[39m\u001b[39m.\u001b[39mformat)\n",
      "File \u001b[1;32mc:\\Users\\EDS\\anaconda3\\Lib\\site-packages\\pandas\\core\\groupby\\generic.py:1416\u001b[0m, in \u001b[0;36mDataFrameGroupBy.__getitem__\u001b[1;34m(self, key)\u001b[0m\n\u001b[0;32m   1407\u001b[0m \u001b[39mif\u001b[39;00m \u001b[39misinstance\u001b[39m(key, \u001b[39mtuple\u001b[39m) \u001b[39mand\u001b[39;00m \u001b[39mlen\u001b[39m(key) \u001b[39m>\u001b[39m \u001b[39m1\u001b[39m:\n\u001b[0;32m   1408\u001b[0m     \u001b[39m# if len == 1, then it becomes a SeriesGroupBy and this is actually\u001b[39;00m\n\u001b[0;32m   1409\u001b[0m     \u001b[39m# valid syntax, so don't raise warning\u001b[39;00m\n\u001b[0;32m   1410\u001b[0m     warnings\u001b[39m.\u001b[39mwarn(\n\u001b[0;32m   1411\u001b[0m         \u001b[39m\"\u001b[39m\u001b[39mIndexing with multiple keys (implicitly converted to a tuple \u001b[39m\u001b[39m\"\u001b[39m\n\u001b[0;32m   1412\u001b[0m         \u001b[39m\"\u001b[39m\u001b[39mof keys) will be deprecated, use a list instead.\u001b[39m\u001b[39m\"\u001b[39m,\n\u001b[0;32m   1413\u001b[0m         \u001b[39mFutureWarning\u001b[39;00m,\n\u001b[0;32m   1414\u001b[0m         stacklevel\u001b[39m=\u001b[39mfind_stack_level(),\n\u001b[0;32m   1415\u001b[0m     )\n\u001b[1;32m-> 1416\u001b[0m \u001b[39mreturn\u001b[39;00m \u001b[39msuper\u001b[39;49m()\u001b[39m.\u001b[39;49m\u001b[39m__getitem__\u001b[39;49m(key)\n",
      "File \u001b[1;32mc:\\Users\\EDS\\anaconda3\\Lib\\site-packages\\pandas\\core\\base.py:248\u001b[0m, in \u001b[0;36mSelectionMixin.__getitem__\u001b[1;34m(self, key)\u001b[0m\n\u001b[0;32m    246\u001b[0m \u001b[39melse\u001b[39;00m:\n\u001b[0;32m    247\u001b[0m     \u001b[39mif\u001b[39;00m key \u001b[39mnot\u001b[39;00m \u001b[39min\u001b[39;00m \u001b[39mself\u001b[39m\u001b[39m.\u001b[39mobj:\n\u001b[1;32m--> 248\u001b[0m         \u001b[39mraise\u001b[39;00m \u001b[39mKeyError\u001b[39;00m(\u001b[39mf\u001b[39m\u001b[39m\"\u001b[39m\u001b[39mColumn not found: \u001b[39m\u001b[39m{\u001b[39;00mkey\u001b[39m}\u001b[39;00m\u001b[39m\"\u001b[39m)\n\u001b[0;32m    249\u001b[0m     subset \u001b[39m=\u001b[39m \u001b[39mself\u001b[39m\u001b[39m.\u001b[39mobj[key]\n\u001b[0;32m    250\u001b[0m     ndim \u001b[39m=\u001b[39m subset\u001b[39m.\u001b[39mndim\n",
      "\u001b[1;31mKeyError\u001b[0m: 'Column not found: preco'"
     ]
    }
   ],
   "source": [
    "# Calcular o valor médio por imóvel em cada bairro\n",
    "media_preco_por_bairro_50_70 = imoveis_50_70_por_bairro.groupby('bairro')['preco'].mean().reset_index(name='media_preco_por_bairro_50_70')\n",
    "\n",
    "# Formatar os valores em moeda real\n",
    "media_preco_por_bairro_50_70['media_preco_por_bairro_50_70'] = media_preco_por_bairro_50_70['media_preco_por_bairro_50_70'].map('R${:,.2f}'.format)\n",
    "\n",
    "# Organização dos valores\n",
    "media_preco_por_bairro_50_70 = media_preco_por_bairro_50_70.sort_values(by='media_preco_por_bairro_50_70', ascending=False)\n",
    "\n",
    "# Exibir o resultado\n",
    "media_preco_por_bairro_50_70"
   ]
  },
  {
   "cell_type": "markdown",
   "metadata": {},
   "source": [
    "Resultado da média com 200 m² ou mais"
   ]
  },
  {
   "cell_type": "code",
   "execution_count": 54,
   "metadata": {},
   "outputs": [
    {
     "data": {
      "text/html": [
       "<div>\n",
       "<style scoped>\n",
       "    .dataframe tbody tr th:only-of-type {\n",
       "        vertical-align: middle;\n",
       "    }\n",
       "\n",
       "    .dataframe tbody tr th {\n",
       "        vertical-align: top;\n",
       "    }\n",
       "\n",
       "    .dataframe thead th {\n",
       "        text-align: right;\n",
       "    }\n",
       "</style>\n",
       "<table border=\"1\" class=\"dataframe\">\n",
       "  <thead>\n",
       "    <tr style=\"text-align: right;\">\n",
       "      <th></th>\n",
       "      <th>bairro</th>\n",
       "      <th>media_preco_200</th>\n",
       "    </tr>\n",
       "  </thead>\n",
       "  <tbody>\n",
       "    <tr>\n",
       "      <th>4</th>\n",
       "      <td>Ipanema</td>\n",
       "      <td>R$7,291,600.00</td>\n",
       "    </tr>\n",
       "    <tr>\n",
       "      <th>5</th>\n",
       "      <td>Leblon</td>\n",
       "      <td>R$7,030,000.00</td>\n",
       "    </tr>\n",
       "    <tr>\n",
       "      <th>2</th>\n",
       "      <td>Grajaú</td>\n",
       "      <td>R$615,000.00</td>\n",
       "    </tr>\n",
       "    <tr>\n",
       "      <th>3</th>\n",
       "      <td>Gávea</td>\n",
       "      <td>R$4,800,000.00</td>\n",
       "    </tr>\n",
       "    <tr>\n",
       "      <th>1</th>\n",
       "      <td>Copacabana</td>\n",
       "      <td>R$3,120,000.00</td>\n",
       "    </tr>\n",
       "    <tr>\n",
       "      <th>0</th>\n",
       "      <td>Botafogo</td>\n",
       "      <td>R$2,811,285.71</td>\n",
       "    </tr>\n",
       "    <tr>\n",
       "      <th>6</th>\n",
       "      <td>Tijuca</td>\n",
       "      <td>R$1,080,000.00</td>\n",
       "    </tr>\n",
       "  </tbody>\n",
       "</table>\n",
       "</div>"
      ],
      "text/plain": [
       "       bairro media_preco_200\n",
       "4     Ipanema  R$7,291,600.00\n",
       "5      Leblon  R$7,030,000.00\n",
       "2      Grajaú    R$615,000.00\n",
       "3       Gávea  R$4,800,000.00\n",
       "1  Copacabana  R$3,120,000.00\n",
       "0    Botafogo  R$2,811,285.71\n",
       "6      Tijuca  R$1,080,000.00"
      ]
     },
     "execution_count": 54,
     "metadata": {},
     "output_type": "execute_result"
    }
   ],
   "source": [
    "# Calcular o valor médio por imóvel em cada bairro\n",
    "media_preco_por_bairro_200 = imoveis_grande.groupby('bairro')['preco'].mean().reset_index(name='media_preco_200')\n",
    "\n",
    "# Formatar os valores em moeda real\n",
    "media_preco_por_bairro_200['media_preco_200'] = media_preco_por_bairro_200['media_preco_200'].map('R${:,.2f}'.format)\n",
    "\n",
    "# Organização dos valores\n",
    "media_preco_por_bairro_200 = media_preco_por_bairro_200.sort_values(by='media_preco_200', ascending=False)\n",
    "\n",
    "# Exibir o resultado\n",
    "media_preco_por_bairro_200\n"
   ]
  }
 ],
 "metadata": {
  "kernelspec": {
   "display_name": "base",
   "language": "python",
   "name": "python3"
  },
  "language_info": {
   "codemirror_mode": {
    "name": "ipython",
    "version": 3
   },
   "file_extension": ".py",
   "mimetype": "text/x-python",
   "name": "python",
   "nbconvert_exporter": "python",
   "pygments_lexer": "ipython3",
   "version": "3.11.4"
  }
 },
 "nbformat": 4,
 "nbformat_minor": 2
}
