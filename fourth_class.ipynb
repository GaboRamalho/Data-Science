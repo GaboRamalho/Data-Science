{
 "cells": [
  {
   "cell_type": "code",
   "execution_count": 1,
   "metadata": {},
   "outputs": [],
   "source": [
    "import pandas as pd\n",
    "import numpy as np"
   ]
  },
  {
   "cell_type": "code",
   "execution_count": 2,
   "metadata": {},
   "outputs": [],
   "source": [
    "df1 = pd.read_csv('http://dados.recife.pe.gov.br/dataset/10a009f2-f9bb-457b-8f78-d8f0dc3ced37/resource/ef521704-6960-4ef1-8f98-a60db4a0d79b/download/pontos_coleta.csv', sep=\";\")"
   ]
  },
  {
   "cell_type": "code",
   "execution_count": 3,
   "metadata": {},
   "outputs": [
    {
     "data": {
      "text/html": [
       "<div>\n",
       "<style scoped>\n",
       "    .dataframe tbody tr th:only-of-type {\n",
       "        vertical-align: middle;\n",
       "    }\n",
       "\n",
       "    .dataframe tbody tr th {\n",
       "        vertical-align: top;\n",
       "    }\n",
       "\n",
       "    .dataframe thead th {\n",
       "        text-align: right;\n",
       "    }\n",
       "</style>\n",
       "<table border=\"1\" class=\"dataframe\">\n",
       "  <thead>\n",
       "    <tr style=\"text-align: right;\">\n",
       "      <th></th>\n",
       "      <th>tiporesiduo</th>\n",
       "      <th>bairro</th>\n",
       "      <th>endereco</th>\n",
       "      <th>complemento</th>\n",
       "      <th>observacao</th>\n",
       "      <th>latitude</th>\n",
       "      <th>longitude</th>\n",
       "    </tr>\n",
       "  </thead>\n",
       "  <tbody>\n",
       "    <tr>\n",
       "      <th>0</th>\n",
       "      <td>Materiais Recicláveis</td>\n",
       "      <td>São José</td>\n",
       "      <td>Avenida Sul</td>\n",
       "      <td>s/n</td>\n",
       "      <td>Cooperativa</td>\n",
       "      <td>-8.075631</td>\n",
       "      <td>-34.891624</td>\n",
       "    </tr>\n",
       "    <tr>\n",
       "      <th>1</th>\n",
       "      <td>Materiais Recicláveis</td>\n",
       "      <td>Dois Unidos</td>\n",
       "      <td>Av. Chagas Ferreira</td>\n",
       "      <td>601</td>\n",
       "      <td>Cooperativa</td>\n",
       "      <td>-8.005045</td>\n",
       "      <td>-34.912247</td>\n",
       "    </tr>\n",
       "    <tr>\n",
       "      <th>2</th>\n",
       "      <td>Materiais Recicláveis</td>\n",
       "      <td>Torre</td>\n",
       "      <td>Rua Eliezer Olímpio de Moura</td>\n",
       "      <td>100</td>\n",
       "      <td>Cooperativa</td>\n",
       "      <td>-8.044426</td>\n",
       "      <td>-34.912990</td>\n",
       "    </tr>\n",
       "    <tr>\n",
       "      <th>3</th>\n",
       "      <td>Materiais Recicláveis</td>\n",
       "      <td>São José</td>\n",
       "      <td>Travessa do Gusmão</td>\n",
       "      <td>178</td>\n",
       "      <td>Cooperativa</td>\n",
       "      <td>-8.071821</td>\n",
       "      <td>-34.886728</td>\n",
       "    </tr>\n",
       "    <tr>\n",
       "      <th>4</th>\n",
       "      <td>Materiais Recicláveis</td>\n",
       "      <td>Guabiraba</td>\n",
       "      <td>Av. Padre Mosca de Carvalho</td>\n",
       "      <td>s/n</td>\n",
       "      <td>Cooperativa</td>\n",
       "      <td>-7.964258</td>\n",
       "      <td>-34.924600</td>\n",
       "    </tr>\n",
       "  </tbody>\n",
       "</table>\n",
       "</div>"
      ],
      "text/plain": [
       "             tiporesiduo       bairro                      endereco  \\\n",
       "0  Materiais Recicláveis     São José                   Avenida Sul   \n",
       "1  Materiais Recicláveis  Dois Unidos           Av. Chagas Ferreira   \n",
       "2  Materiais Recicláveis        Torre  Rua Eliezer Olímpio de Moura   \n",
       "3  Materiais Recicláveis     São José            Travessa do Gusmão   \n",
       "4  Materiais Recicláveis    Guabiraba   Av. Padre Mosca de Carvalho   \n",
       "\n",
       "  complemento   observacao  latitude  longitude  \n",
       "0         s/n  Cooperativa -8.075631 -34.891624  \n",
       "1         601  Cooperativa -8.005045 -34.912247  \n",
       "2         100  Cooperativa -8.044426 -34.912990  \n",
       "3         178  Cooperativa -8.071821 -34.886728  \n",
       "4         s/n  Cooperativa -7.964258 -34.924600  "
      ]
     },
     "execution_count": 3,
     "metadata": {},
     "output_type": "execute_result"
    }
   ],
   "source": [
    "df1.head()"
   ]
  },
  {
   "cell_type": "code",
   "execution_count": 4,
   "metadata": {},
   "outputs": [
    {
     "data": {
      "text/plain": [
       "(244, 7)"
      ]
     },
     "execution_count": 4,
     "metadata": {},
     "output_type": "execute_result"
    }
   ],
   "source": [
    "df1.shape"
   ]
  },
  {
   "cell_type": "code",
   "execution_count": 5,
   "metadata": {},
   "outputs": [
    {
     "name": "stdout",
     "output_type": "stream",
     "text": [
      "<class 'pandas.core.frame.DataFrame'>\n",
      "RangeIndex: 244 entries, 0 to 243\n",
      "Data columns (total 7 columns):\n",
      " #   Column       Non-Null Count  Dtype  \n",
      "---  ------       --------------  -----  \n",
      " 0   tiporesiduo  244 non-null    object \n",
      " 1   bairro       244 non-null    object \n",
      " 2   endereco     244 non-null    object \n",
      " 3   complemento  97 non-null     object \n",
      " 4   observacao   176 non-null    object \n",
      " 5   latitude     244 non-null    float64\n",
      " 6   longitude    244 non-null    float64\n",
      "dtypes: float64(2), object(5)\n",
      "memory usage: 13.5+ KB\n"
     ]
    }
   ],
   "source": [
    "df1.info()"
   ]
  },
  {
   "cell_type": "code",
   "execution_count": 6,
   "metadata": {},
   "outputs": [
    {
     "data": {
      "text/plain": [
       "tiporesiduo      0\n",
       "bairro           0\n",
       "endereco         0\n",
       "complemento    147\n",
       "observacao      68\n",
       "latitude         0\n",
       "longitude        0\n",
       "dtype: int64"
      ]
     },
     "execution_count": 6,
     "metadata": {},
     "output_type": "execute_result"
    }
   ],
   "source": [
    "df1.isnull().sum()"
   ]
  },
  {
   "cell_type": "code",
   "execution_count": 7,
   "metadata": {},
   "outputs": [
    {
     "data": {
      "text/html": [
       "<div>\n",
       "<style scoped>\n",
       "    .dataframe tbody tr th:only-of-type {\n",
       "        vertical-align: middle;\n",
       "    }\n",
       "\n",
       "    .dataframe tbody tr th {\n",
       "        vertical-align: top;\n",
       "    }\n",
       "\n",
       "    .dataframe thead th {\n",
       "        text-align: right;\n",
       "    }\n",
       "</style>\n",
       "<table border=\"1\" class=\"dataframe\">\n",
       "  <thead>\n",
       "    <tr style=\"text-align: right;\">\n",
       "      <th></th>\n",
       "      <th>tiporesiduo</th>\n",
       "      <th>bairro</th>\n",
       "      <th>endereco</th>\n",
       "      <th>complemento</th>\n",
       "      <th>observacao</th>\n",
       "      <th>latitude</th>\n",
       "      <th>longitude</th>\n",
       "    </tr>\n",
       "  </thead>\n",
       "  <tbody>\n",
       "    <tr>\n",
       "      <th>0</th>\n",
       "      <td>Materiais Recicláveis</td>\n",
       "      <td>São José</td>\n",
       "      <td>Avenida Sul</td>\n",
       "      <td>s/n</td>\n",
       "      <td>Cooperativa</td>\n",
       "      <td>-8.075631</td>\n",
       "      <td>-34.891624</td>\n",
       "    </tr>\n",
       "    <tr>\n",
       "      <th>1</th>\n",
       "      <td>Materiais Recicláveis</td>\n",
       "      <td>Dois Unidos</td>\n",
       "      <td>Av. Chagas Ferreira</td>\n",
       "      <td>601</td>\n",
       "      <td>Cooperativa</td>\n",
       "      <td>-8.005045</td>\n",
       "      <td>-34.912247</td>\n",
       "    </tr>\n",
       "    <tr>\n",
       "      <th>2</th>\n",
       "      <td>Materiais Recicláveis</td>\n",
       "      <td>Torre</td>\n",
       "      <td>Rua Eliezer Olímpio de Moura</td>\n",
       "      <td>100</td>\n",
       "      <td>Cooperativa</td>\n",
       "      <td>-8.044426</td>\n",
       "      <td>-34.912990</td>\n",
       "    </tr>\n",
       "    <tr>\n",
       "      <th>3</th>\n",
       "      <td>Materiais Recicláveis</td>\n",
       "      <td>São José</td>\n",
       "      <td>Travessa do Gusmão</td>\n",
       "      <td>178</td>\n",
       "      <td>Cooperativa</td>\n",
       "      <td>-8.071821</td>\n",
       "      <td>-34.886728</td>\n",
       "    </tr>\n",
       "    <tr>\n",
       "      <th>4</th>\n",
       "      <td>Materiais Recicláveis</td>\n",
       "      <td>Guabiraba</td>\n",
       "      <td>Av. Padre Mosca de Carvalho</td>\n",
       "      <td>s/n</td>\n",
       "      <td>Cooperativa</td>\n",
       "      <td>-7.964258</td>\n",
       "      <td>-34.924600</td>\n",
       "    </tr>\n",
       "    <tr>\n",
       "      <th>...</th>\n",
       "      <td>...</td>\n",
       "      <td>...</td>\n",
       "      <td>...</td>\n",
       "      <td>...</td>\n",
       "      <td>...</td>\n",
       "      <td>...</td>\n",
       "      <td>...</td>\n",
       "    </tr>\n",
       "    <tr>\n",
       "      <th>238</th>\n",
       "      <td>Eletroeletrônico</td>\n",
       "      <td>Aflitos</td>\n",
       "      <td>Av. Conselheiro Rosa e Silva, 1339, Aflitos</td>\n",
       "      <td>NaN</td>\n",
       "      <td>NaN</td>\n",
       "      <td>-8.039951</td>\n",
       "      <td>-34.901544</td>\n",
       "    </tr>\n",
       "    <tr>\n",
       "      <th>239</th>\n",
       "      <td>Eletroeletrônico</td>\n",
       "      <td>Pombos</td>\n",
       "      <td>R. Joaquim Falcão, 109 - Pombos-PE</td>\n",
       "      <td>NaN</td>\n",
       "      <td>NaN</td>\n",
       "      <td>-8.140545</td>\n",
       "      <td>-35.399369</td>\n",
       "    </tr>\n",
       "    <tr>\n",
       "      <th>240</th>\n",
       "      <td>Eletroeletrônico</td>\n",
       "      <td>Centro</td>\n",
       "      <td>Av. Pres Getúlio Vargas, 457, centro, Abreu e ...</td>\n",
       "      <td>NaN</td>\n",
       "      <td>NaN</td>\n",
       "      <td>-8.007753</td>\n",
       "      <td>-34.843995</td>\n",
       "    </tr>\n",
       "    <tr>\n",
       "      <th>241</th>\n",
       "      <td>Eletroeletrônico</td>\n",
       "      <td>Caetés</td>\n",
       "      <td>PE-018, 24 - Caetés I, Abreu e Lima - PE</td>\n",
       "      <td>NaN</td>\n",
       "      <td>NaN</td>\n",
       "      <td>-7.924121</td>\n",
       "      <td>-34.937997</td>\n",
       "    </tr>\n",
       "    <tr>\n",
       "      <th>242</th>\n",
       "      <td>Eletroeletrônico</td>\n",
       "      <td>Caetés</td>\n",
       "      <td>Av. Rui Barbosa, 262 - Caetés Velho, Abreu e L...</td>\n",
       "      <td>NaN</td>\n",
       "      <td>NaN</td>\n",
       "      <td>-7.907376</td>\n",
       "      <td>-34.906251</td>\n",
       "    </tr>\n",
       "  </tbody>\n",
       "</table>\n",
       "<p>243 rows × 7 columns</p>\n",
       "</div>"
      ],
      "text/plain": [
       "               tiporesiduo       bairro  \\\n",
       "0    Materiais Recicláveis     São José   \n",
       "1    Materiais Recicláveis  Dois Unidos   \n",
       "2    Materiais Recicláveis        Torre   \n",
       "3    Materiais Recicláveis     São José   \n",
       "4    Materiais Recicláveis    Guabiraba   \n",
       "..                     ...          ...   \n",
       "238       Eletroeletrônico      Aflitos   \n",
       "239       Eletroeletrônico       Pombos   \n",
       "240       Eletroeletrônico       Centro   \n",
       "241       Eletroeletrônico       Caetés   \n",
       "242       Eletroeletrônico       Caetés   \n",
       "\n",
       "                                              endereco complemento  \\\n",
       "0                                          Avenida Sul         s/n   \n",
       "1                                  Av. Chagas Ferreira         601   \n",
       "2                         Rua Eliezer Olímpio de Moura         100   \n",
       "3                                   Travessa do Gusmão         178   \n",
       "4                          Av. Padre Mosca de Carvalho         s/n   \n",
       "..                                                 ...         ...   \n",
       "238        Av. Conselheiro Rosa e Silva, 1339, Aflitos         NaN   \n",
       "239                 R. Joaquim Falcão, 109 - Pombos-PE         NaN   \n",
       "240  Av. Pres Getúlio Vargas, 457, centro, Abreu e ...         NaN   \n",
       "241           PE-018, 24 - Caetés I, Abreu e Lima - PE         NaN   \n",
       "242  Av. Rui Barbosa, 262 - Caetés Velho, Abreu e L...         NaN   \n",
       "\n",
       "      observacao  latitude  longitude  \n",
       "0    Cooperativa -8.075631 -34.891624  \n",
       "1    Cooperativa -8.005045 -34.912247  \n",
       "2    Cooperativa -8.044426 -34.912990  \n",
       "3    Cooperativa -8.071821 -34.886728  \n",
       "4    Cooperativa -7.964258 -34.924600  \n",
       "..           ...       ...        ...  \n",
       "238          NaN -8.039951 -34.901544  \n",
       "239          NaN -8.140545 -35.399369  \n",
       "240          NaN -8.007753 -34.843995  \n",
       "241          NaN -7.924121 -34.937997  \n",
       "242          NaN -7.907376 -34.906251  \n",
       "\n",
       "[243 rows x 7 columns]"
      ]
     },
     "execution_count": 7,
     "metadata": {},
     "output_type": "execute_result"
    }
   ],
   "source": [
    "df1.head(1-2)"
   ]
  },
  {
   "cell_type": "markdown",
   "metadata": {},
   "source": [
    "Sempre que se pensar em dar drop em qualquer dado da tabela, se faz necessário uma cópia conforme no código a seguir."
   ]
  },
  {
   "cell_type": "code",
   "execution_count": 8,
   "metadata": {},
   "outputs": [],
   "source": [
    "dados = df1.copy()"
   ]
  },
  {
   "cell_type": "code",
   "execution_count": 9,
   "metadata": {},
   "outputs": [],
   "source": [
    "dados.dropna(inplace = True)"
   ]
  },
  {
   "cell_type": "code",
   "execution_count": 10,
   "metadata": {},
   "outputs": [
    {
     "data": {
      "text/plain": [
       "tiporesiduo    0\n",
       "bairro         0\n",
       "endereco       0\n",
       "complemento    0\n",
       "observacao     0\n",
       "latitude       0\n",
       "longitude      0\n",
       "dtype: int64"
      ]
     },
     "execution_count": 10,
     "metadata": {},
     "output_type": "execute_result"
    }
   ],
   "source": [
    "dados.isnull().sum()"
   ]
  },
  {
   "cell_type": "code",
   "execution_count": 11,
   "metadata": {},
   "outputs": [
    {
     "data": {
      "text/plain": [
       "(85, 7)"
      ]
     },
     "execution_count": 11,
     "metadata": {},
     "output_type": "execute_result"
    }
   ],
   "source": [
    "dados.shape"
   ]
  },
  {
   "cell_type": "code",
   "execution_count": 12,
   "metadata": {},
   "outputs": [
    {
     "data": {
      "text/plain": [
       "array(['Materiais Recicláveis', 'metal,isopor,papel,plastico,vidro',\n",
       "       'metal,isopor,papel,pastico,vidro', 'eletrônico',\n",
       "       'lixo organico, metralhas, móveis, materiais recicláveis, eletroeletronico, utensílios domésticos e resíduos de podas',\n",
       "       'Óleos de Cozinha',\n",
       "       'eletronico, metal,isopor,papel,plastico,vidro',\n",
       "       'eletronico, oleo de cozinha, metal,isopor,papel,plastico,vidro'],\n",
       "      dtype=object)"
      ]
     },
     "execution_count": 12,
     "metadata": {},
     "output_type": "execute_result"
    }
   ],
   "source": [
    "dados['tiporesiduo'].unique()"
   ]
  },
  {
   "cell_type": "markdown",
   "metadata": {},
   "source": [
    "Aqui, mesmo já tendo sido zerado, vamos armazenar os dados dentro de uma variável."
   ]
  },
  {
   "cell_type": "code",
   "execution_count": 28,
   "metadata": {},
   "outputs": [],
   "source": [
    "analise_tiporesudio = dados['tiporesiduo'].value_counts()"
   ]
  },
  {
   "cell_type": "code",
   "execution_count": 29,
   "metadata": {},
   "outputs": [],
   "source": [
    "analise_tiporesudio = pd.DataFrame(analise_tiporesudio)"
   ]
  },
  {
   "cell_type": "code",
   "execution_count": 30,
   "metadata": {},
   "outputs": [],
   "source": [
    "import matplotlib.pyplot as plt"
   ]
  },
  {
   "cell_type": "code",
   "execution_count": 31,
   "metadata": {},
   "outputs": [
    {
     "data": {
      "text/plain": [
       "<Axes: >"
      ]
     },
     "execution_count": 31,
     "metadata": {},
     "output_type": "execute_result"
    },
    {
     "data": {
      "image/png": "[encoded data removed]",
      "text/plain": [
       "<Figure size 640x480 with 1 Axes>"
      ]
     },
     "metadata": {},
     "output_type": "display_data"
    }
   ],
   "source": [
    "analise_tiporesudio.plot(kind = 'bar')"
   ]
  }
 ],
 "metadata": {
  "kernelspec": {
   "display_name": "base",
   "language": "python",
   "name": "python3"
  },
  "language_info": {
   "codemirror_mode": {
    "name": "ipython",
    "version": 3
   },
   "file_extension": ".py",
   "mimetype": "text/x-python",
   "name": "python",
   "nbconvert_exporter": "python",
   "pygments_lexer": "ipython3",
   "version": "3.11.4"
  },
  "orig_nbformat": 4
 },
 "nbformat": 4,
 "nbformat_minor": 2
}
