{
 "cells": [
  {
   "cell_type": "markdown",
   "metadata": {},
   "source": [
    "That's my first class of Data Science at Embarque"
   ]
  },
  {
   "cell_type": "code",
   "execution_count": 7,
   "metadata": {},
   "outputs": [
    {
     "name": "stdout",
     "output_type": "stream",
     "text": [
      "Damn bro... u broke? be at home and watch netflix\n"
     ]
    }
   ],
   "source": [
    "leisure = input('Is this a sunny day?')\n",
    "money = input('Do u have cash?')\n",
    "\n",
    "if(leisure == 'yes' and money == 'yes'):\n",
    "    print('time to go to the beach!')\n",
    "else:\n",
    "    print('Damn bro... u broke? be at home and watch netflix')"
   ]
  },
  {
   "cell_type": "code",
   "execution_count": 11,
   "metadata": {},
   "outputs": [
    {
     "name": "stdout",
     "output_type": "stream",
     "text": [
      "We are at element 1\n",
      "We are at element 2\n",
      "We are at element 3\n",
      "We are at element 4\n",
      "We are at element 5\n"
     ]
    }
   ],
   "source": [
    "for element in range(1, 6):\n",
    "    print(f'We are at element {element}')"
   ]
  },
  {
   "cell_type": "code",
   "execution_count": 12,
   "metadata": {},
   "outputs": [
    {
     "name": "stdout",
     "output_type": "stream",
     "text": [
      "we are at S\n",
      "we are at T\n",
      "we are at R\n",
      "we are at I\n",
      "we are at N\n",
      "we are at G\n"
     ]
    }
   ],
   "source": [
    "for element in 'STRING':\n",
    "    print(f'we are at {element}')"
   ]
  },
  {
   "cell_type": "code",
   "execution_count": 13,
   "metadata": {},
   "outputs": [
    {
     "name": "stdout",
     "output_type": "stream",
     "text": [
      "We are at element 0\n",
      "We are at element 1\n",
      "We are at element 2\n",
      "We are at element 3\n",
      "We are at element 4\n",
      "We are at element 5\n"
     ]
    }
   ],
   "source": [
    "for element in range(len('STRING')):\n",
    "    print(f'We are at element {element}')"
   ]
  }
 ],
 "metadata": {
  "kernelspec": {
   "display_name": "Python 3",
   "language": "python",
   "name": "python3"
  },
  "language_info": {
   "codemirror_mode": {
    "name": "ipython",
    "version": 3
   },
   "file_extension": ".py",
   "mimetype": "text/x-python",
   "name": "python",
   "nbconvert_exporter": "python",
   "pygments_lexer": "ipython3",
   "version": "3.11.4"
  },
  "orig_nbformat": 4
 },
 "nbformat": 4,
 "nbformat_minor": 2
}
